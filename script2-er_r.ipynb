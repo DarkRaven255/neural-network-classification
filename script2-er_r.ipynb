{
  "cells": [
    {
      "cell_type": "code",
      "execution_count": null,
      "metadata": {
        "pycharm": {
          "is_executing": true
        }
      },
      "outputs": [],
      "source": [
        "import numpy as np\n",
        "import pandas as pd\n",
        "import matplotlib.pyplot as plt\n",
        "from mpl_toolkits.mplot3d import Axes3D\n",
        "from random import shuffle\n",
        "from matplotlib import cm\n",
        "\n",
        "%matplotlib inline\n",
        "\n",
        "np.random.seed(157)\n",
        "error_tab \u003d []\n",
        "lr_tab \u003d []\n",
        "acc_tab \u003d []\n",
        "\n",
        "dfu \u003d pd.read_csv(\u0027tae.data\u0027, header\u003dNone)\n",
        "\n",
        "columns \u003d [\u0027English speaker\u0027, \u0027Course\u0027, \u0027Course instructor\u0027, \u0027Summer or regular semester\u0027, \u0027Class size\u0027, \u0027Class attribute\u0027]\n",
        "dfu.columns \u003d columns\n",
        "\n",
        "# dfu.info()\n",
        "\n",
        "df\u003ddfu\n",
        "df\u003d((df-df.min())/(df.max()-df.min()))\n",
        "df[\"Class attribute\"]\u003ddfu[\"Class attribute\"]\n",
        "\n",
        "\u0027\u0027\u0027\n",
        "x \u003d df.drop(\u0027Class attribute\u0027, axis\u003d1).values\n",
        "labels \u003d df[\u0027Class attribute\u0027]\n",
        "y \u003d pd.get_dummies(df[\u0027Class attribute\u0027]).values\n",
        "\u0027\u0027\u0027"
      ]
    },
    {
      "cell_type": "code",
      "execution_count": null,
      "metadata": {
        "pycharm": {
          "is_executing": true
        }
      },
      "outputs": [],
      "source": [
        "valid \u003d df.sample(15)\n",
        "train \u003d df.drop(valid.index)\n",
        "\n",
        "x \u003d train.drop(\u0027Class attribute\u0027, axis\u003d1).values\n",
        "labels \u003d train[\u0027Class attribute\u0027]\n",
        "y \u003d pd.get_dummies(train[\u0027Class attribute\u0027]).values\n",
        "\n",
        "xt \u003d valid.drop(\u0027Class attribute\u0027, axis\u003d1).values\n",
        "labels \u003d valid[\u0027Class attribute\u0027]\n",
        "yt \u003d pd.get_dummies(valid[\u0027Class attribute\u0027]).values"
      ]
    },
    {
      "cell_type": "code",
      "execution_count": null,
      "metadata": {
        "pycharm": {
          "is_executing": true
        }
      },
      "outputs": [],
      "source": [
        "valid.head(12)"
      ]
    },
    {
      "cell_type": "code",
      "execution_count": null,
      "metadata": {
        "pycharm": {
          "is_executing": true
        }
      },
      "outputs": [],
      "source": [
        "def layer_sizes(X, Y):\n",
        "    n_x \u003d 5 # input layer\n",
        "    n_h1 \u003d 50\n",
        "    n_h2 \u003d 20\n",
        "    n_y \u003d 3 # output layer\n",
        "    return (n_x, n_h1, n_h2, n_y)\n",
        "        \n",
        "def sigmoid(z):\n",
        "    return 1.0/(1.0+np.exp(-z))\n",
        "\n",
        "def sigmoid_prime(z):\n",
        "    return sigmoid(z)*(1-sigmoid(z))"
      ]
    },
    {
      "cell_type": "code",
      "execution_count": null,
      "metadata": {
        "pycharm": {
          "is_executing": true
        }
      },
      "outputs": [],
      "source": [
        "def initialize_parameters(n_x, n_h1, n_h2, n_y):\n",
        "    W1 \u003d np.random.randn(n_x,n_h1)*0.01\n",
        "    b1 \u003d np.zeros(n_h1)\n",
        "\n",
        "    W2 \u003d np.random.randn(n_h1,n_h2)*0.01\n",
        "    b2 \u003d np.zeros(n_h2)\n",
        "\n",
        "    W3 \u003d np.random.randn(n_h2,n_y)*0.01\n",
        "    b3 \u003d np.zeros(n_y)\n",
        "\n",
        "    parameters \u003d {\"W1\": W1,\n",
        "                  \"b1\": b1,\n",
        "                  \"W2\": W2,\n",
        "                  \"b2\": b2,\n",
        "                  \"W3\": W3,\n",
        "                  \"b3\": b3}\n",
        "    \n",
        "    return parameters"
      ]
    },
    {
      "cell_type": "code",
      "execution_count": null,
      "metadata": {
        "pycharm": {
          "is_executing": true
        }
      },
      "outputs": [],
      "source": [
        "def forward_propagation(X, parameters):\n",
        "    W1 \u003d parameters[\u0027W1\u0027]\n",
        "    b1 \u003d parameters[\u0027b1\u0027]\n",
        "    W2 \u003d parameters[\u0027W2\u0027]\n",
        "    b2 \u003d parameters[\u0027b2\u0027]\n",
        "    W3 \u003d parameters[\u0027W3\u0027]\n",
        "    b3 \u003d parameters[\u0027b3\u0027]\n",
        "    \n",
        "    # Layer 1\n",
        "    Z1 \u003d np.dot(X, W1) + b1\n",
        "    A1 \u003d sigmoid(Z1)\n",
        "\n",
        "    # Layer 2\n",
        "    Z2 \u003d np.dot(A1, W2) + b2\n",
        "    A2 \u003d sigmoid(Z2)\n",
        "    \n",
        "    # Layer 3\n",
        "    Z3 \u003d np.dot(A2, W3) + b3\n",
        "    A3 \u003d sigmoid(Z3)\n",
        "    \n",
        "    cache \u003d {\"Z1\": Z1,\n",
        "             \"A1\": A1,\n",
        "             \"Z2\": Z2,\n",
        "             \"A2\": A2,\n",
        "             \"Z3\": Z3,\n",
        "             \"A3\": A3}\n",
        "    \n",
        "    return A3, cache"
      ]
    },
    {
      "cell_type": "code",
      "execution_count": null,
      "metadata": {
        "pycharm": {
          "is_executing": true
        }
      },
      "outputs": [],
      "source": [
        "def compute_cost(A3, Y, parameters):\n",
        "    m \u003d Y.shape[0] # number of examples\n",
        "    # cross entropy\n",
        "    logprobs \u003d np.multiply(np.log(A3), Y) + np.multiply((1 - Y), np.log(1 - A3))\n",
        "    cost \u003d - np.sum(logprobs) / m    \n",
        "    \n",
        "    cost \u003d np.squeeze(cost)\n",
        "    \n",
        "    return cost*100"
      ]
    },
    {
      "cell_type": "code",
      "execution_count": null,
      "metadata": {
        "pycharm": {
          "is_executing": true
        }
      },
      "outputs": [],
      "source": [
        "def accuracy(output_vec, test_vec):\n",
        "    equals \u003d np.equal(np.argmax(test_vec, axis\u003d1), np.argmax(output_vec, axis\u003d1))\n",
        "    acc \u003d np.mean(equals)\n",
        "    return acc"
      ]
    },
    {
      "cell_type": "code",
      "execution_count": null,
      "metadata": {
        "pycharm": {
          "is_executing": true
        }
      },
      "outputs": [],
      "source": [
        "def adapt_learning_rate(learning_rate, xi_d, xi_i, er_r, cost, prev_cost):\n",
        "    if cost \u003e er_r*prev_cost:\n",
        "        learning_rate*\u003dxi_d\n",
        "    elif cost \u003c prev_cost:\n",
        "        learning_rate*\u003dxi_i\n",
        "    prev_cost \u003d cost\n",
        "    return learning_rate, prev_cost"
      ]
    },
    {
      "cell_type": "code",
      "execution_count": null,
      "metadata": {
        "pycharm": {
          "is_executing": true
        }
      },
      "outputs": [],
      "source": [
        "def backward_propagation(parameters, cache, X, Y):\n",
        "    \"\"\"\n",
        "    Implement the backward propagation using the instructions above.\n",
        "    \n",
        "    Arguments:\n",
        "    parameters -- python dictionary containing our parameters \n",
        "    cache -- a dictionary containing \"Z1\", \"A1\", \"Z2\" and \"A2\".\n",
        "    X -- input data of shape (2, number of examples)\n",
        "    Y -- \"true\" labels vector of shape (1, number of examples)\n",
        "    \n",
        "    Returns:\n",
        "    grads -- python dictionary containing your gradients with respect to different parameters\n",
        "    \"\"\"\n",
        "    # First, retrieve W1 and W2 from the dictionary \"parameters\".\n",
        "    W1 \u003d parameters[\u0027W1\u0027]\n",
        "    W2 \u003d parameters[\u0027W2\u0027]\n",
        "    W3 \u003d parameters[\u0027W3\u0027]\n",
        "        \n",
        "    # Retrieve also A1 and A2 from dictionary \"cache\".\n",
        "    A1 \u003d cache[\u0027A1\u0027]\n",
        "    A2 \u003d cache[\u0027A2\u0027]\n",
        "    A3 \u003d cache[\u0027A3\u0027]\n",
        "    \n",
        "    Z1 \u003d cache[\u0027Z1\u0027]\n",
        "    Z2 \u003d cache[\u0027Z2\u0027]\n",
        "    \n",
        "    ########## Layer 3\n",
        "    delta3 \u003d A3-Y\n",
        "    dW3 \u003d np.dot(A2.T, delta3)\n",
        "    db3 \u003d delta3\n",
        "    \n",
        "    ########## Layer 2\n",
        "    delta2 \u003d np.dot(delta3, W3.T) * sigmoid_prime(Z2)\n",
        "    dW2 \u003d np.dot(A1.T, delta2)\n",
        "    db2 \u003d delta2\n",
        "    \n",
        "    ########## Layer 1\n",
        "    delta1 \u003d np.dot(delta2, W2.T) * sigmoid_prime(Z1)\n",
        "    dW1 \u003d np.dot(X.T, delta1)\n",
        "    db1 \u003d delta1\n",
        "\n",
        "    \n",
        "    grads \u003d {\"dW1\": dW1,\n",
        "             \"db1\": db1,\n",
        "             \"dW2\": dW2,\n",
        "             \"db2\": db2,       \n",
        "             \"dW3\": dW3,\n",
        "             \"db3\": db3}\n",
        "    return grads"
      ]
    },
    {
      "cell_type": "code",
      "execution_count": null,
      "metadata": {
        "pycharm": {
          "is_executing": true
        }
      },
      "outputs": [],
      "source": [
        "def update_parameters(parameters, grads, learning_rate):\n",
        "    W1 \u003d parameters[\u0027W1\u0027]\n",
        "    b1 \u003d parameters[\u0027b1\u0027]\n",
        "    W2 \u003d parameters[\u0027W2\u0027]\n",
        "    b2 \u003d parameters[\u0027b2\u0027]\n",
        "    W3 \u003d parameters[\u0027W3\u0027]\n",
        "    b3 \u003d parameters[\u0027b3\u0027]\n",
        "\n",
        "    dW1 \u003d grads[\u0027dW1\u0027]\n",
        "    db1 \u003d grads[\u0027db1\u0027]\n",
        "    dW2 \u003d grads[\u0027dW2\u0027]\n",
        "    db2 \u003d grads[\u0027db2\u0027]\n",
        "    dW3 \u003d grads[\u0027dW3\u0027]\n",
        "    db3 \u003d grads[\u0027db3\u0027]\n",
        "\n",
        "    W1 -\u003d learning_rate * dW1\n",
        "    b1 -\u003d learning_rate * db1.sum(axis\u003d0)\n",
        "\n",
        "    W2 -\u003d learning_rate * dW2\n",
        "    b2 -\u003d learning_rate * db2.sum(axis\u003d0)\n",
        "    \n",
        "    W3 -\u003d learning_rate * dW3\n",
        "    b3 -\u003d learning_rate * db3.sum(axis\u003d0)\n",
        "    \n",
        "    parameters \u003d {\"W1\": W1,\n",
        "                  \"b1\": b1,\n",
        "                  \"W2\": W2,\n",
        "                  \"b2\": b2,\n",
        "                  \"W3\": W3,\n",
        "                  \"b3\": b3}\n",
        "    \n",
        "    return parameters"
      ]
    },
    {
      "cell_type": "code",
      "execution_count": null,
      "metadata": {
        "pycharm": {
          "is_executing": true
        }
      },
      "outputs": [],
      "source": [
        "def nn_model(X, Y, n_h1, n_h2, er_r, xi_i, xi_d, num_iterations, learning_rate):\n",
        "    prev_cost \u003d 1000.0\n",
        "    n_x \u003d layer_sizes(X, Y)[0]\n",
        "    n_y \u003d layer_sizes(X, Y)[3]\n",
        "    \n",
        "    parameters \u003d initialize_parameters(n_x, n_h1, n_h2, n_y)\n",
        " \n",
        "    W1 \u003d parameters[\u0027W1\u0027]\n",
        "    b1 \u003d parameters[\u0027b1\u0027]\n",
        "    W2 \u003d parameters[\u0027W2\u0027]\n",
        "    b2 \u003d parameters[\u0027b2\u0027]\n",
        "    W3 \u003d parameters[\u0027W3\u0027]\n",
        "    b3 \u003d parameters[\u0027b3\u0027]\n",
        "    \n",
        "    max_acc \u003d 0;\n",
        "    \n",
        "    for epoch in range(0, num_iterations):\n",
        "         \n",
        "        # Forward propagation. Inputs: \"X, parameters\". Outputs: \"A2, cache\".\n",
        "        A3, cache \u003d forward_propagation(X, parameters)\n",
        "\n",
        "        # Cost function. Inputs: \"A2, Y, parameters\". Outputs: \"cost\".\n",
        "        cost \u003d compute_cost(A3, Y, parameters)\n",
        " \n",
        "        # Backpropagation. Inputs: \"parameters, cache, X, Y\". Outputs: \"grads\".\n",
        "        grads \u003d backward_propagation(parameters, cache, X, Y)\n",
        "        \n",
        "        # CONSTANT LEARNING RATE:\n",
        "        # learning_rate \u003d 0.01\n",
        "        \n",
        "        # DECREMENTAL LEARNING RATE:\n",
        "        # learning_rate *\u003d 1/(1 + learning_rate/(epoch+1) * epoch)\n",
        "        \n",
        "        # ADAPTIVE LEARNING RATE:\n",
        "        learning_rate, prev_cost \u003d adapt_learning_rate(learning_rate, xi_d, xi_i, er_r, cost, prev_cost)\n",
        "\n",
        "        # Gradient descent parameter update. Inputs: \"parameters, grads\". Outputs: \"parameters\".\n",
        "        parameters \u003d update_parameters(parameters, grads, learning_rate)\n",
        "\n",
        "            #loss \u003d -np.sum(y * np.log(A3))\n",
        "            #error_tab.append(cost)\n",
        "            #lr_tab.append(learning_rate)\n",
        "            # equals \u003d np.equal(np.argmax(y, axis\u003d1), np.argmax(A3, axis\u003d1))\n",
        "            # acc \u003d np.mean(equals)\n",
        "            # A3, cache \u003d forward_propagation(xt, parameters)\n",
        "            # equals \u003d np.equal(np.argmax(yt, axis\u003d1), np.argmax(A3, axis\u003d1))\n",
        "            # acc_t \u003d np.mean(equals)\n",
        "            # acc_tab.append(acc)\n",
        "            # print(\"Cost after iteration %i: %f, accuracy: %f\" %(epoch, acc, acc_t))\n",
        "\n",
        "    return parameters, A3"
      ]
    },
    {
      "cell_type": "code",
      "execution_count": null,
      "metadata": {
        "pycharm": {
          "is_executing": true
        }
      },
      "outputs": [],
      "source": [
        "# Create a function called \"chunks\" with two arguments, l and n:\n",
        "def chunks(l, n):\n",
        "    # For item i in a range that is a length of l,\n",
        "    for i in range(0, len(l), n):\n",
        "        # Create an index range for l of n items:\n",
        "        yield l[i:i+n]"
      ]
    },
    {
      "cell_type": "code",
      "execution_count": 18,
      "metadata": {
        "scrolled": true,
        "pycharm": {
          "is_executing": false
        }
      },
      "outputs": [
        {
          "name": "stdout",
          "text": [
            "0, 0.345588235294, 0.333333333333\n",
            "0, 0.345588235294, 0.333333333333\n",
            "0, 0.345588235294, 0.333333333333\n",
            "0, 0.345588235294, 0.333333333333\n",
            "0, 0.345588235294, 0.333333333333\n",
            "1, 0.573529411765, 0.6\n",
            "1, 0.573529411765, 0.6\n",
            "1, 0.573529411765, 0.6\n",
            "1, 0.566176470588, 0.666666666667\n",
            "1, 0.558823529412, 0.666666666667\n",
            "1, 0.558823529412, 0.666666666667\n",
            "1, 0.544117647059, 0.666666666667\n",
            "1, 0.573529411765, 0.6\n",
            "1, 0.558823529412, 0.6\n",
            "1, 0.536764705882, 0.6\n",
            "1, 0.573529411765, 0.6\n",
            "1, 0.558823529412, 0.6\n",
            "1, 0.573529411765, 0.533333333333\n",
            "1, 0.551470588235, 0.533333333333\n",
            "1, 0.558823529412, 0.6\n",
            "1, 0.573529411765, 0.6\n",
            "1, 0.573529411765, 0.6\n",
            "1, 0.558823529412, 0.6\n",
            "1, 0.558823529412, 0.666666666667\n",
            "1, 0.573529411765, 0.6\n",
            "1, 0.573529411765, 0.6\n",
            "1, 0.551470588235, 0.533333333333\n",
            "1, 0.558823529412, 0.666666666667\n",
            "1, 0.573529411765, 0.6\n",
            "1, 0.573529411765, 0.6\n",
            "1, 0.573529411765, 0.6\n",
            "1, 0.544117647059, 0.6\n",
            "1, 0.573529411765, 0.6\n",
            "1, 0.573529411765, 0.6\n",
            "1, 0.544117647059, 0.6\n",
            "1, 0.558823529412, 0.533333333333\n",
            "1, 0.558823529412, 0.666666666667\n",
            "1, 0.536764705882, 0.6\n",
            "1, 0.573529411765, 0.6\n",
            "1, 0.566176470588, 0.666666666667\n",
            "1, 0.573529411765, 0.6\n",
            "1, 0.558823529412, 0.666666666667\n",
            "1, 0.573529411765, 0.6\n",
            "1, 0.573529411765, 0.6\n",
            "1, 0.558823529412, 0.666666666667\n",
            "1, 0.558823529412, 0.666666666667\n",
            "1, 0.573529411765, 0.6\n",
            "1, 0.558823529412, 0.666666666667\n",
            "1, 0.573529411765, 0.6\n",
            "1, 0.573529411765, 0.6\n",
            "1, 0.573529411765, 0.6\n",
            "1, 0.566176470588, 0.6\n",
            "1, 0.558823529412, 0.6\n",
            "1, 0.573529411765, 0.6\n",
            "1, 0.573529411765, 0.6\n"
          ],
          "output_type": "stream"
        }
      ],
      "source": [
        "# ERROR RATIO\n",
        "n_h1 \u003d 68\n",
        "n_h2 \u003d 43\n",
        "er_r_tab \u003d list(range(990, 1050, 1))\n",
        "acc_tab_er_r \u003d []\n",
        "for er_r in er_r_tab:\n",
        "    parameters, A3 \u003d nn_model(x, y, n_h1, n_h2, er_r/1000, xi_i \u003d 1.06, xi_d \u003d 0.77, num_iterations \u003d 4800, learning_rate \u003d 0.01)\n",
        "    acc \u003d accuracy(output_vec \u003d A3, test_vec \u003d y)\n",
        "    A3, cache \u003d forward_propagation(xt, parameters)\n",
        "    acc_t \u003d accuracy(output_vec \u003d A3, test_vec \u003d yt)\n",
        "    print(\"{}, {}, {}\".format(er_r/1000, acc, acc_t))\n",
        "    acc_tab_er_r.append(acc*acc_t)"
      ]
    },
    {
      "cell_type": "code",
      "execution_count": 19,
      "metadata": {
        "pycharm": {
          "is_executing": false
        }
      },
      "outputs": [
        {
          "data": {
            "image/png": "[encoded data removed]",
            "text/plain": "\u003cFigure size 432x288 with 1 Axes\u003e"
          },
          "metadata": {
            "needs_background": "light"
          },
          "output_type": "display_data"
        }
      ],
      "source": [
        "er_r_tab \u003d np.arange(0.99, 1.0491, 0.001)\n",
        "plt.plot(er_r_tab, acc_tab_er_r)\n",
        "\n",
        "#plt.xlim(5, 0)  # decreasing time\n",
        "\n",
        "plt.xlabel(\u0027error ratio\u0027)\n",
        "plt.ylabel(\u0027acc * acc_t\u0027)\n",
        "plt.grid(True)\n",
        "\n",
        "plt.show()"
      ]
    },
    {
      "cell_type": "code",
      "execution_count": null,
      "metadata": {
        "pycharm": {
          "is_executing": true
        }
      },
      "outputs": [
        {
          "name": "stdout",
          "text": [
            "101, 61, 0.338235294118, 0.266666666667\n",
            "101, 62, 0.345588235294, 0.333333333333\n",
            "101, 63, 0.345588235294, 0.333333333333\n",
            "101, 64, 0.338235294118, 0.266666666667\n",
            "101, 65, 0.345588235294, 0.333333333333\n",
            "101, 66, 0.338235294118, 0.266666666667\n",
            "101, 67, 0.338235294118, 0.266666666667\n",
            "101, 68, 0.345588235294, 0.333333333333\n",
            "101, 69, 0.345588235294, 0.333333333333\n",
            "101, 70, 0.345588235294, 0.333333333333\n",
            "101, 71, 0.345588235294, 0.333333333333\n",
            "101, 72, 0.345588235294, 0.333333333333\n",
            "101, 73, 0.345588235294, 0.333333333333\n",
            "101, 74, 0.338235294118, 0.266666666667\n",
            "101, 75, 0.345588235294, 0.333333333333\n",
            "101, 76, 0.345588235294, 0.333333333333\n",
            "101, 77, 0.345588235294, 0.333333333333\n",
            "101, 78, 0.345588235294, 0.333333333333\n",
            "101, 79, 0.345588235294, 0.333333333333\n",
            "101, 80, 0.345588235294, 0.333333333333\n",
            "101, 81, 0.345588235294, 0.333333333333\n",
            "101, 82, 0.345588235294, 0.333333333333\n",
            "101, 83, 0.338235294118, 0.266666666667\n",
            "101, 84, 0.345588235294, 0.333333333333\n",
            "101, 85, 0.338235294118, 0.266666666667\n",
            "101, 86, 0.345588235294, 0.333333333333\n",
            "101, 87, 0.345588235294, 0.333333333333\n",
            "101, 88, 0.338235294118, 0.266666666667\n",
            "101, 89, 0.338235294118, 0.266666666667\n",
            "101, 90, 0.345588235294, 0.333333333333\n",
            "101, 91, 0.345588235294, 0.333333333333\n",
            "101, 92, 0.345588235294, 0.333333333333\n",
            "101, 93, 0.345588235294, 0.333333333333\n",
            "101, 94, 0.338235294118, 0.266666666667\n",
            "101, 95, 0.345588235294, 0.333333333333\n",
            "101, 96, 0.345588235294, 0.333333333333\n",
            "101, 97, 0.345588235294, 0.333333333333\n",
            "101, 98, 0.338235294118, 0.266666666667\n",
            "101, 99, 0.345588235294, 0.333333333333\n",
            "102, 61, 0.345588235294, 0.333333333333\n",
            "102, 62, 0.345588235294, 0.333333333333\n",
            "102, 63, 0.345588235294, 0.333333333333\n",
            "102, 64, 0.345588235294, 0.333333333333\n",
            "102, 65, 0.345588235294, 0.333333333333\n",
            "102, 66, 0.345588235294, 0.333333333333\n",
            "102, 67, 0.345588235294, 0.333333333333\n",
            "102, 68, 0.338235294118, 0.266666666667\n",
            "102, 69, 0.345588235294, 0.333333333333\n",
            "102, 70, 0.345588235294, 0.333333333333\n",
            "102, 71, 0.345588235294, 0.333333333333\n",
            "102, 72, 0.338235294118, 0.266666666667\n",
            "102, 73, 0.345588235294, 0.333333333333\n",
            "102, 74, 0.345588235294, 0.333333333333\n",
            "102, 75, 0.345588235294, 0.333333333333\n",
            "102, 76, 0.345588235294, 0.333333333333\n",
            "102, 77, 0.345588235294, 0.333333333333\n",
            "102, 78, 0.345588235294, 0.333333333333\n"
          ],
          "output_type": "stream"
        }
      ],
      "source": [
        "# XI_I XI_D\n",
        "n_h1 \u003d 68\n",
        "n_h2 \u003d 43\n",
        "er_r \u003d 1.016\n",
        "xi_i_number \u003d list(range(101, 140, 1))\n",
        "xi_d_number \u003d list(range(61, 100, 1))\n",
        "acc_tab_xi \u003d np.zeros(shape\u003d(39,39))\n",
        "for xi_i in xi_i_number:\n",
        "    for xi_d in xi_d_number:\n",
        "        parameters, A3 \u003d nn_model(x, y, n_h1, n_h2, er_r, xi_i/100, xi_d/100, num_iterations \u003d 4800, learning_rate \u003d 0.01)\n",
        "        acc \u003d accuracy(output_vec \u003d A3, test_vec \u003d y)\n",
        "        A3, cache \u003d forward_propagation(xt, parameters)\n",
        "        acc_t \u003d accuracy(output_vec \u003d A3, test_vec \u003d yt)\n",
        "        print(\"{}, {}, {}, {}\".format(xi_i, xi_d, acc, acc_t))\n",
        "        acc_tab_xi[xi_i-101, xi_d-61] \u003d acc*acc_t"
      ]
    },
    {
      "cell_type": "code",
      "execution_count": null,
      "metadata": {
        "pycharm": {
          "is_executing": true
        }
      },
      "outputs": [],
      "source": [
        "fig \u003d plt.figure(num\u003dNone, figsize\u003d(6, 5), dpi\u003d150, facecolor\u003d\u0027w\u0027, edgecolor\u003d\u0027k\u0027)\n",
        "X \u003d np.arange(1.01, 1.391, 0.01)\n",
        "Y \u003d np.arange(0.61, 0.991, 0.01)\n",
        "X, Y \u003d np.meshgrid(X, Y)\n",
        "ax \u003d fig.gca(projection\u003d\u00273d\u0027)\n",
        "ax.set_xlabel(\u0027xi_i\u0027)\n",
        "ax.set_ylabel(\u0027xi_d\u0027)\n",
        "ax.set_zlabel(\u0027acc * acc_t\u0027)\n",
        "ax.plot_surface(X, Y, acc_tab_xi, rstride\u003d1, cstride\u003d1, cmap\u003d\u0027viridis\u0027, antialiased\u003dTrue)"
      ]
    },
    {
      "cell_type": "code",
      "execution_count": null,
      "metadata": {
        "pycharm": {
          "is_executing": true
        }
      },
      "outputs": [],
      "source": [
        "Y.shape"
      ]
    },
    {
      "cell_type": "code",
      "execution_count": null,
      "metadata": {
        "pycharm": {
          "is_executing": true
        }
      },
      "outputs": [],
      "source": "a\n"
    },
    {
      "cell_type": "code",
      "execution_count": null,
      "outputs": [],
      "source": "\n",
      "metadata": {
        "pycharm": {
          "metadata": false,
          "name": "#%%\n"
        }
      }
    }
  ],
  "metadata": {
    "kernelspec": {
      "name": "python2",
      "language": "python",
      "display_name": "Python 2"
    },
    "language_info": {
      "codemirror_mode": {
        "name": "ipython",
        "version": 3
      },
      "file_extension": ".py",
      "mimetype": "text/x-python",
      "name": "python",
      "nbconvert_exporter": "python",
      "pygments_lexer": "ipython3",
      "version": "3.7.3"
    }
  },
  "nbformat": 4,
  "nbformat_minor": 2
}