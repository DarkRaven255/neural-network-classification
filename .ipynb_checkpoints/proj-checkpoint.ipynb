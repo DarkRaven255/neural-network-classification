{
 "cells": [
  {
   "cell_type": "code",
   "execution_count": 1,
   "metadata": {},
   "outputs": [],
   "source": [
    "import numpy as np\n",
    "import pandas as pd\n",
    "import matplotlib.pyplot as plt\n",
    "%matplotlib inline"
   ]
  },
  {
   "cell_type": "code",
   "execution_count": 2,
   "metadata": {},
   "outputs": [],
   "source": [
    "np.random.seed(101)"
   ]
  },
  {
   "cell_type": "code",
   "execution_count": 3,
   "metadata": {},
   "outputs": [],
   "source": [
    "df = pd.read_csv('tae.data', header=None)"
   ]
  },
  {
   "cell_type": "code",
   "execution_count": 4,
   "metadata": {},
   "outputs": [
    {
     "data": {
      "text/html": [
       "<div>\n",
       "<style scoped>\n",
       "    .dataframe tbody tr th:only-of-type {\n",
       "        vertical-align: middle;\n",
       "    }\n",
       "\n",
       "    .dataframe tbody tr th {\n",
       "        vertical-align: top;\n",
       "    }\n",
       "\n",
       "    .dataframe thead th {\n",
       "        text-align: right;\n",
       "    }\n",
       "</style>\n",
       "<table border=\"1\" class=\"dataframe\">\n",
       "  <thead>\n",
       "    <tr style=\"text-align: right;\">\n",
       "      <th></th>\n",
       "      <th>0</th>\n",
       "      <th>1</th>\n",
       "      <th>2</th>\n",
       "      <th>3</th>\n",
       "      <th>4</th>\n",
       "      <th>5</th>\n",
       "    </tr>\n",
       "  </thead>\n",
       "  <tbody>\n",
       "    <tr>\n",
       "      <th>0</th>\n",
       "      <td>1</td>\n",
       "      <td>23</td>\n",
       "      <td>3</td>\n",
       "      <td>1</td>\n",
       "      <td>19</td>\n",
       "      <td>3</td>\n",
       "    </tr>\n",
       "    <tr>\n",
       "      <th>1</th>\n",
       "      <td>2</td>\n",
       "      <td>15</td>\n",
       "      <td>3</td>\n",
       "      <td>1</td>\n",
       "      <td>17</td>\n",
       "      <td>3</td>\n",
       "    </tr>\n",
       "    <tr>\n",
       "      <th>2</th>\n",
       "      <td>1</td>\n",
       "      <td>23</td>\n",
       "      <td>3</td>\n",
       "      <td>2</td>\n",
       "      <td>49</td>\n",
       "      <td>3</td>\n",
       "    </tr>\n",
       "    <tr>\n",
       "      <th>3</th>\n",
       "      <td>1</td>\n",
       "      <td>5</td>\n",
       "      <td>2</td>\n",
       "      <td>2</td>\n",
       "      <td>33</td>\n",
       "      <td>3</td>\n",
       "    </tr>\n",
       "    <tr>\n",
       "      <th>4</th>\n",
       "      <td>2</td>\n",
       "      <td>7</td>\n",
       "      <td>11</td>\n",
       "      <td>2</td>\n",
       "      <td>55</td>\n",
       "      <td>3</td>\n",
       "    </tr>\n",
       "  </tbody>\n",
       "</table>\n",
       "</div>"
      ],
      "text/plain": [
       "   0   1   2  3   4  5\n",
       "0  1  23   3  1  19  3\n",
       "1  2  15   3  1  17  3\n",
       "2  1  23   3  2  49  3\n",
       "3  1   5   2  2  33  3\n",
       "4  2   7  11  2  55  3"
      ]
     },
     "execution_count": 4,
     "metadata": {},
     "output_type": "execute_result"
    }
   ],
   "source": [
    "df.head()"
   ]
  },
  {
   "cell_type": "code",
   "execution_count": 5,
   "metadata": {},
   "outputs": [],
   "source": [
    "columns = ['English speaker', 'Course instructor', 'Course', 'Summer or regular semester', 'Class size', 'Class attribute']"
   ]
  },
  {
   "cell_type": "code",
   "execution_count": 6,
   "metadata": {},
   "outputs": [],
   "source": [
    "df.columns = columns"
   ]
  },
  {
   "cell_type": "code",
   "execution_count": 7,
   "metadata": {},
   "outputs": [
    {
     "data": {
      "text/html": [
       "<div>\n",
       "<style scoped>\n",
       "    .dataframe tbody tr th:only-of-type {\n",
       "        vertical-align: middle;\n",
       "    }\n",
       "\n",
       "    .dataframe tbody tr th {\n",
       "        vertical-align: top;\n",
       "    }\n",
       "\n",
       "    .dataframe thead th {\n",
       "        text-align: right;\n",
       "    }\n",
       "</style>\n",
       "<table border=\"1\" class=\"dataframe\">\n",
       "  <thead>\n",
       "    <tr style=\"text-align: right;\">\n",
       "      <th></th>\n",
       "      <th>English speaker</th>\n",
       "      <th>Course instructor</th>\n",
       "      <th>Course</th>\n",
       "      <th>Summer or regular semester</th>\n",
       "      <th>Class size</th>\n",
       "      <th>Class attribute</th>\n",
       "    </tr>\n",
       "  </thead>\n",
       "  <tbody>\n",
       "    <tr>\n",
       "      <th>0</th>\n",
       "      <td>1</td>\n",
       "      <td>23</td>\n",
       "      <td>3</td>\n",
       "      <td>1</td>\n",
       "      <td>19</td>\n",
       "      <td>3</td>\n",
       "    </tr>\n",
       "    <tr>\n",
       "      <th>1</th>\n",
       "      <td>2</td>\n",
       "      <td>15</td>\n",
       "      <td>3</td>\n",
       "      <td>1</td>\n",
       "      <td>17</td>\n",
       "      <td>3</td>\n",
       "    </tr>\n",
       "    <tr>\n",
       "      <th>2</th>\n",
       "      <td>1</td>\n",
       "      <td>23</td>\n",
       "      <td>3</td>\n",
       "      <td>2</td>\n",
       "      <td>49</td>\n",
       "      <td>3</td>\n",
       "    </tr>\n",
       "    <tr>\n",
       "      <th>3</th>\n",
       "      <td>1</td>\n",
       "      <td>5</td>\n",
       "      <td>2</td>\n",
       "      <td>2</td>\n",
       "      <td>33</td>\n",
       "      <td>3</td>\n",
       "    </tr>\n",
       "    <tr>\n",
       "      <th>4</th>\n",
       "      <td>2</td>\n",
       "      <td>7</td>\n",
       "      <td>11</td>\n",
       "      <td>2</td>\n",
       "      <td>55</td>\n",
       "      <td>3</td>\n",
       "    </tr>\n",
       "  </tbody>\n",
       "</table>\n",
       "</div>"
      ],
      "text/plain": [
       "   English speaker  Course instructor  Course  Summer or regular semester  \\\n",
       "0                1                 23       3                           1   \n",
       "1                2                 15       3                           1   \n",
       "2                1                 23       3                           2   \n",
       "3                1                  5       2                           2   \n",
       "4                2                  7      11                           2   \n",
       "\n",
       "   Class size  Class attribute  \n",
       "0          19                3  \n",
       "1          17                3  \n",
       "2          49                3  \n",
       "3          33                3  \n",
       "4          55                3  "
      ]
     },
     "execution_count": 7,
     "metadata": {},
     "output_type": "execute_result"
    }
   ],
   "source": [
    "df.head()"
   ]
  },
  {
   "cell_type": "code",
   "execution_count": 8,
   "metadata": {},
   "outputs": [
    {
     "name": "stdout",
     "output_type": "stream",
     "text": [
      "<class 'pandas.core.frame.DataFrame'>\n",
      "RangeIndex: 151 entries, 0 to 150\n",
      "Data columns (total 6 columns):\n",
      "English speaker               151 non-null int64\n",
      "Course instructor             151 non-null int64\n",
      "Course                        151 non-null int64\n",
      "Summer or regular semester    151 non-null int64\n",
      "Class size                    151 non-null int64\n",
      "Class attribute               151 non-null int64\n",
      "dtypes: int64(6)\n",
      "memory usage: 7.1 KB\n"
     ]
    }
   ],
   "source": [
    "df.info()"
   ]
  },
  {
   "cell_type": "code",
   "execution_count": 9,
   "metadata": {},
   "outputs": [],
   "source": [
    "x = df.drop('Class attribute', axis=1).values\n",
    "labels = df['Class attribute']\n",
    "y = pd.get_dummies(df['Class attribute']).values"
   ]
  },
  {
   "cell_type": "code",
   "execution_count": 10,
   "metadata": {},
   "outputs": [
    {
     "data": {
      "text/plain": [
       "(151, 5)"
      ]
     },
     "execution_count": 10,
     "metadata": {},
     "output_type": "execute_result"
    }
   ],
   "source": [
    "x.shape"
   ]
  },
  {
   "cell_type": "code",
   "execution_count": 11,
   "metadata": {},
   "outputs": [],
   "source": [
    "num_inputs = 5\n",
    "neurons1 = 50\n",
    "neurons2 = 20\n",
    "num_outputs = 3"
   ]
  },
  {
   "cell_type": "code",
   "execution_count": 12,
   "metadata": {},
   "outputs": [],
   "source": [
    "W1 = np.random.randn(num_inputs,neurons1)\n",
    "b1 = np.zeros(neurons1)\n",
    "\n",
    "W2 = np.random.randn(neurons1,neurons2)\n",
    "b2 = np.zeros(neurons2)\n",
    "\n",
    "W3 = np.random.randn(neurons2,num_outputs)\n",
    "b3 = np.zeros(num_outputs)"
   ]
  },
  {
   "cell_type": "code",
   "execution_count": 13,
   "metadata": {},
   "outputs": [],
   "source": [
    "# def sigmoid(x):\n",
    "#     return 1 / (1 + np.exp(-x))\n",
    "\n",
    "# def sigmoid_der(x):\n",
    "#     return x * (1 - x)"
   ]
  },
  {
   "cell_type": "code",
   "execution_count": 14,
   "metadata": {},
   "outputs": [],
   "source": [
    "def sigmoid(x):  \n",
    "    return 1 / (1 + np.exp(-x))\n",
    "\n",
    "def sigmoid_der(x):  \n",
    "    return sigmoid(x) *(1-sigmoid(x))\n",
    "\n",
    "# def softmax(A):  \n",
    "#     expA = np.exp(A)\n",
    "#     return expA / expA.sum(axis=1, keepdims=True)"
   ]
  },
  {
   "cell_type": "code",
   "execution_count": 15,
   "metadata": {},
   "outputs": [],
   "source": [
    "lr = 0.01\n",
    "error_tab = []\n",
    "lr_tab = []\n",
    "acc_tab = []\n",
    "epochs = 10000"
   ]
  },
  {
   "cell_type": "code",
   "execution_count": 16,
   "metadata": {
    "scrolled": true
   },
   "outputs": [
    {
     "name": "stdout",
     "output_type": "stream",
     "text": [
      "Epoch: 0, Loss: 71.50451264152282, Accuracy: 0.3443708609271523\n",
      "Epoch: 200, Loss: 132.17480091667187, Accuracy: 0.5695364238410596\n",
      "Epoch: 400, Loss: 122.5212918758871, Accuracy: 0.6821192052980133\n",
      "Epoch: 600, Loss: 109.05169071265843, Accuracy: 0.6688741721854304\n",
      "Epoch: 800, Loss: 102.92885867704194, Accuracy: 0.695364238410596\n",
      "Epoch: 1000, Loss: 97.5431002688954, Accuracy: 0.7218543046357616\n",
      "Epoch: 1200, Loss: 93.82169600524236, Accuracy: 0.7218543046357616\n",
      "Epoch: 1400, Loss: 86.82721118318628, Accuracy: 0.8079470198675497\n",
      "Epoch: 1600, Loss: 83.59570707664552, Accuracy: 0.8211920529801324\n",
      "Epoch: 1800, Loss: 81.05876909375678, Accuracy: 0.8211920529801324\n",
      "Epoch: 2000, Loss: 79.17741604169346, Accuracy: 0.8211920529801324\n",
      "Epoch: 2200, Loss: 77.23386406438172, Accuracy: 0.8145695364238411\n",
      "Epoch: 2400, Loss: 75.15708509357923, Accuracy: 0.8145695364238411\n",
      "Epoch: 2600, Loss: 72.61716706927801, Accuracy: 0.8344370860927153\n",
      "Epoch: 2800, Loss: 69.81206152605722, Accuracy: 0.8344370860927153\n",
      "Epoch: 3000, Loss: 67.80147798958686, Accuracy: 0.8410596026490066\n",
      "Epoch: 3200, Loss: 66.56763325459471, Accuracy: 0.8410596026490066\n",
      "Epoch: 3400, Loss: 65.49134778587256, Accuracy: 0.8410596026490066\n",
      "Epoch: 3600, Loss: 64.48613500499246, Accuracy: 0.847682119205298\n",
      "Epoch: 3800, Loss: 63.44813772514621, Accuracy: 0.8543046357615894\n",
      "Epoch: 4000, Loss: 62.536863969601185, Accuracy: 0.8609271523178808\n",
      "Epoch: 4200, Loss: 61.73173395905075, Accuracy: 0.8609271523178808\n",
      "Epoch: 4400, Loss: 61.00851217328917, Accuracy: 0.8609271523178808\n",
      "Epoch: 4600, Loss: 60.35353746414498, Accuracy: 0.8609271523178808\n",
      "Epoch: 4800, Loss: 59.75675880810619, Accuracy: 0.8675496688741722\n",
      "Epoch: 5000, Loss: 59.210216710783484, Accuracy: 0.8675496688741722\n",
      "Epoch: 5200, Loss: 58.70744277203015, Accuracy: 0.8675496688741722\n",
      "Epoch: 5400, Loss: 58.24309591927553, Accuracy: 0.8675496688741722\n",
      "Epoch: 5600, Loss: 57.81269189374875, Accuracy: 0.8675496688741722\n",
      "Epoch: 5800, Loss: 57.41241213624845, Accuracy: 0.8675496688741722\n",
      "Epoch: 6000, Loss: 57.039003639507946, Accuracy: 0.8675496688741722\n",
      "Epoch: 6200, Loss: 56.689742268391605, Accuracy: 0.8675496688741722\n",
      "Epoch: 6400, Loss: 56.36239087376647, Accuracy: 0.8807947019867549\n",
      "Epoch: 6600, Loss: 56.05511003834269, Accuracy: 0.8807947019867549\n",
      "Epoch: 6800, Loss: 55.76634321288633, Accuracy: 0.8807947019867549\n",
      "Epoch: 7000, Loss: 55.49471970190962, Accuracy: 0.8807947019867549\n",
      "Epoch: 7200, Loss: 55.23899441941735, Accuracy: 0.8807947019867549\n",
      "Epoch: 7400, Loss: 54.998017970134015, Accuracy: 0.8807947019867549\n",
      "Epoch: 7600, Loss: 54.77072365413983, Accuracy: 0.8807947019867549\n",
      "Epoch: 7800, Loss: 54.55612158863662, Accuracy: 0.8874172185430463\n",
      "Epoch: 8000, Loss: 54.353294988373264, Accuracy: 0.8874172185430463\n",
      "Epoch: 8200, Loss: 54.16139667536598, Accuracy: 0.8874172185430463\n",
      "Epoch: 8400, Loss: 53.97964529100676, Accuracy: 0.8874172185430463\n",
      "Epoch: 8600, Loss: 53.80732120789351, Accuracy: 0.8874172185430463\n",
      "Epoch: 8800, Loss: 53.64376228405018, Accuracy: 0.8874172185430463\n",
      "Epoch: 9000, Loss: 53.488359608703554, Accuracy: 0.8874172185430463\n",
      "Epoch: 9200, Loss: 53.340553354900756, Accuracy: 0.8874172185430463\n",
      "Epoch: 9400, Loss: 53.19982881586373, Accuracy: 0.8874172185430463\n",
      "Epoch: 9600, Loss: 53.06571267013963, Accuracy: 0.8874172185430463\n",
      "Epoch: 9800, Loss: 52.93776949728199, Accuracy: 0.8874172185430463\n"
     ]
    }
   ],
   "source": [
    "for epoch in range(epochs):\n",
    "    \n",
    "    ########## Forward Propagation\n",
    "    \n",
    "    # Layer 1\n",
    "    z1 = np.dot(x, W1) + b1\n",
    "    a1 = sigmoid(z1)\n",
    "\n",
    "    # Layer 2\n",
    "    z2 = np.dot(a1, W2) + b2\n",
    "    a2 = sigmoid(z2)\n",
    "    \n",
    "    # Layer 3\n",
    "    z3 = np.dot(a2, W3) + b3\n",
    "    a3 = sigmoid(z3)\n",
    "    \n",
    "    ########## Back Propagation\n",
    "    \n",
    "    ########## Layer 3\n",
    "    delta3 = a3-y\n",
    "    dW3 = np.dot(a2.T, delta3)\n",
    "    \n",
    "    db3 = delta3\n",
    "    \n",
    "    ########## Layer 2\n",
    "    delta2 = np.dot(delta3, W3.T) * sigmoid_der(z2)\n",
    "    dW2 = np.dot(a1.T, delta2)\n",
    "    \n",
    "    db2 = delta2\n",
    "    \n",
    "    ########## Layer 1\n",
    "    delta1 = np.dot(delta2, W2.T) * sigmoid_der(z1)\n",
    "    dW1 = np.dot(x.T, delta1)\n",
    "    \n",
    "    db1 = delta1\n",
    "    \n",
    "    ########## Adaptive learning rate\n",
    "    lr = lr * 1/(1 + lr/epochs * epoch)\n",
    "    \n",
    "    # Update Weights ================\n",
    "    W1 -= lr * dW1\n",
    "    b1 -= lr * db1.sum(axis=0)\n",
    "\n",
    "    W2 -= lr * dW2\n",
    "    b2 -= lr * db2.sum(axis=0)\n",
    "    \n",
    "    W3 -= lr * dW3\n",
    "    b3 -= lr * db3.sum(axis=0)\n",
    "    \n",
    "    if epoch % 200 == 0:\n",
    "        loss = -np.sum(y * np.log(a3))\n",
    "        error_tab.append(loss)\n",
    "        lr_tab.append(lr)\n",
    "        equals = np.equal(np.argmax(y, axis=1), np.argmax(a3, axis=1))\n",
    "        acc = np.mean(equals)\n",
    "        acc_tab.append(acc)\n",
    "        print('Epoch: {}, Loss: {}, Accuracy: {}'.format(epoch, loss, acc))"
   ]
  },
  {
   "cell_type": "code",
   "execution_count": 17,
   "metadata": {},
   "outputs": [
    {
     "data": {
      "text/plain": [
       "[<matplotlib.lines.Line2D at 0x10c383d0>]"
      ]
     },
     "execution_count": 17,
     "metadata": {},
     "output_type": "execute_result"
    },
    {
     "data": {
      "image/png": "[encoded data removed]",
      "text/plain": [
       "<Figure size 432x288 with 1 Axes>"
      ]
     },
     "metadata": {
      "needs_background": "light"
     },
     "output_type": "display_data"
    }
   ],
   "source": [
    "plt.plot(range(len(error_tab)), error_tab)"
   ]
  },
  {
   "cell_type": "code",
   "execution_count": 18,
   "metadata": {},
   "outputs": [
    {
     "data": {
      "text/plain": [
       "[<matplotlib.lines.Line2D at 0x11c74d10>]"
      ]
     },
     "execution_count": 18,
     "metadata": {},
     "output_type": "execute_result"
    },
    {
     "data": {
      "image/png": "[encoded data removed]",
      "text/plain": [
       "<Figure size 432x288 with 1 Axes>"
      ]
     },
     "metadata": {
      "needs_background": "light"
     },
     "output_type": "display_data"
    }
   ],
   "source": [
    "plt.plot(range(len(acc_tab)), acc_tab)"
   ]
  },
  {
   "cell_type": "code",
   "execution_count": 19,
   "metadata": {},
   "outputs": [
    {
     "data": {
      "text/plain": [
       "[<matplotlib.lines.Line2D at 0x11cb2e30>]"
      ]
     },
     "execution_count": 19,
     "metadata": {},
     "output_type": "execute_result"
    },
    {
     "data": {
      "image/png": "[encoded data removed]",
      "text/plain": [
       "<Figure size 432x288 with 1 Axes>"
      ]
     },
     "metadata": {
      "needs_background": "light"
     },
     "output_type": "display_data"
    }
   ],
   "source": [
    "plt.plot(range(len(lr_tab)), lr_tab)"
   ]
  },
  {
   "cell_type": "code",
   "execution_count": null,
   "metadata": {},
   "outputs": [],
   "source": []
  }
 ],
 "metadata": {
  "kernelspec": {
   "display_name": "Python 3",
   "language": "python",
   "name": "python3"
  },
  "language_info": {
   "codemirror_mode": {
    "name": "ipython",
    "version": 3
   },
   "file_extension": ".py",
   "mimetype": "text/x-python",
   "name": "python",
   "nbconvert_exporter": "python",
   "pygments_lexer": "ipython3",
   "version": "3.7.3"
  }
 },
 "nbformat": 4,
 "nbformat_minor": 2
}
