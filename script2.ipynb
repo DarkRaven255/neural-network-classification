{
 "cells": [
  {
   "cell_type": "code",
   "execution_count": 1,
   "metadata": {},
   "outputs": [],
   "source": [
    "import numpy as np\n",
    "import pandas as pd\n",
    "import matplotlib.pyplot as plt\n",
    "from mpl_toolkits.mplot3d import Axes3D\n",
    "from random import shuffle\n",
    "from matplotlib import cm\n",
    "\n",
    "%matplotlib inline"
   ]
  },
  {
   "cell_type": "code",
   "execution_count": 2,
   "metadata": {},
   "outputs": [],
   "source": [
    "np.random.seed(101)\n",
    "error_tab = []\n",
    "lr_tab = []\n",
    "acc_tab = []"
   ]
  },
  {
   "cell_type": "code",
   "execution_count": 3,
   "metadata": {},
   "outputs": [],
   "source": [
    "df = pd.read_csv('tae.data', header=None)"
   ]
  },
  {
   "cell_type": "code",
   "execution_count": 4,
   "metadata": {},
   "outputs": [],
   "source": [
    "columns = ['English speaker', 'Course', 'Course instructor', 'Summer or regular semester', 'Class size', 'Class attribute']\n",
    "df.columns = columns"
   ]
  },
  {
   "cell_type": "code",
   "execution_count": 5,
   "metadata": {},
   "outputs": [
    {
     "data": {
      "text/html": [
       "<div>\n",
       "<style scoped>\n",
       "    .dataframe tbody tr th:only-of-type {\n",
       "        vertical-align: middle;\n",
       "    }\n",
       "\n",
       "    .dataframe tbody tr th {\n",
       "        vertical-align: top;\n",
       "    }\n",
       "\n",
       "    .dataframe thead th {\n",
       "        text-align: right;\n",
       "    }\n",
       "</style>\n",
       "<table border=\"1\" class=\"dataframe\">\n",
       "  <thead>\n",
       "    <tr style=\"text-align: right;\">\n",
       "      <th></th>\n",
       "      <th>English speaker</th>\n",
       "      <th>Course</th>\n",
       "      <th>Course instructor</th>\n",
       "      <th>Summer or regular semester</th>\n",
       "      <th>Class size</th>\n",
       "      <th>Class attribute</th>\n",
       "    </tr>\n",
       "  </thead>\n",
       "  <tbody>\n",
       "    <tr>\n",
       "      <th>0</th>\n",
       "      <td>1</td>\n",
       "      <td>23</td>\n",
       "      <td>3</td>\n",
       "      <td>1</td>\n",
       "      <td>19</td>\n",
       "      <td>3</td>\n",
       "    </tr>\n",
       "    <tr>\n",
       "      <th>1</th>\n",
       "      <td>2</td>\n",
       "      <td>15</td>\n",
       "      <td>3</td>\n",
       "      <td>1</td>\n",
       "      <td>17</td>\n",
       "      <td>3</td>\n",
       "    </tr>\n",
       "    <tr>\n",
       "      <th>2</th>\n",
       "      <td>1</td>\n",
       "      <td>23</td>\n",
       "      <td>3</td>\n",
       "      <td>2</td>\n",
       "      <td>49</td>\n",
       "      <td>3</td>\n",
       "    </tr>\n",
       "    <tr>\n",
       "      <th>3</th>\n",
       "      <td>1</td>\n",
       "      <td>5</td>\n",
       "      <td>2</td>\n",
       "      <td>2</td>\n",
       "      <td>33</td>\n",
       "      <td>3</td>\n",
       "    </tr>\n",
       "    <tr>\n",
       "      <th>4</th>\n",
       "      <td>2</td>\n",
       "      <td>7</td>\n",
       "      <td>11</td>\n",
       "      <td>2</td>\n",
       "      <td>55</td>\n",
       "      <td>3</td>\n",
       "    </tr>\n",
       "  </tbody>\n",
       "</table>\n",
       "</div>"
      ],
      "text/plain": [
       "   English speaker  Course  Course instructor  Summer or regular semester  \\\n",
       "0                1      23                  3                           1   \n",
       "1                2      15                  3                           1   \n",
       "2                1      23                  3                           2   \n",
       "3                1       5                  2                           2   \n",
       "4                2       7                 11                           2   \n",
       "\n",
       "   Class size  Class attribute  \n",
       "0          19                3  \n",
       "1          17                3  \n",
       "2          49                3  \n",
       "3          33                3  \n",
       "4          55                3  "
      ]
     },
     "execution_count": 5,
     "metadata": {},
     "output_type": "execute_result"
    }
   ],
   "source": [
    "df.head()"
   ]
  },
  {
   "cell_type": "code",
   "execution_count": 6,
   "metadata": {},
   "outputs": [
    {
     "name": "stdout",
     "output_type": "stream",
     "text": [
      "<class 'pandas.core.frame.DataFrame'>\n",
      "RangeIndex: 151 entries, 0 to 150\n",
      "Data columns (total 6 columns):\n",
      "English speaker               151 non-null int64\n",
      "Course                        151 non-null int64\n",
      "Course instructor             151 non-null int64\n",
      "Summer or regular semester    151 non-null int64\n",
      "Class size                    151 non-null int64\n",
      "Class attribute               151 non-null int64\n",
      "dtypes: int64(6)\n",
      "memory usage: 7.1 KB\n"
     ]
    }
   ],
   "source": [
    "df.info()"
   ]
  },
  {
   "cell_type": "code",
   "execution_count": 7,
   "metadata": {},
   "outputs": [],
   "source": [
    "valid = df.sample(15)\n",
    "train = df.drop(valid.index)\n",
    "\n",
    "x = train.drop('Class attribute', axis=1).values\n",
    "labels = train['Class attribute']\n",
    "y = pd.get_dummies(train['Class attribute']).values\n",
    "\n",
    "xt = valid.drop('Class attribute', axis=1).values\n",
    "labels = valid['Class attribute']\n",
    "yt = pd.get_dummies(valid['Class attribute']).values"
   ]
  },
  {
   "cell_type": "code",
   "execution_count": 8,
   "metadata": {},
   "outputs": [],
   "source": [
    "def layer_sizes(X, Y):\n",
    "    n_x = 5 # input layer\n",
    "    n_h1 = 50\n",
    "    n_h2 = 20\n",
    "    n_y = 3 # output layer\n",
    "    return (n_x, n_h1, n_h2, n_y)\n",
    "        \n",
    "def sigmoid(z):\n",
    "    return 1.0/(1.0+np.exp(-z))\n",
    "\n",
    "def sigmoid_prime(z):\n",
    "    return sigmoid(z)*(1-sigmoid(z))"
   ]
  },
  {
   "cell_type": "code",
   "execution_count": 9,
   "metadata": {},
   "outputs": [],
   "source": [
    "def initialize_parameters(n_x, n_h1, n_h2, n_y):\n",
    "    W1 = np.random.randn(n_x,n_h1)*0.01\n",
    "    b1 = np.zeros(n_h1)\n",
    "\n",
    "    W2 = np.random.randn(n_h1,n_h2)*0.01\n",
    "    b2 = np.zeros(n_h2)\n",
    "\n",
    "    W3 = np.random.randn(n_h2,n_y)*0.01\n",
    "    b3 = np.zeros(n_y)\n",
    "\n",
    "    parameters = {\"W1\": W1,\n",
    "                  \"b1\": b1,\n",
    "                  \"W2\": W2,\n",
    "                  \"b2\": b2,\n",
    "                  \"W3\": W3,\n",
    "                  \"b3\": b3}\n",
    "    \n",
    "    return parameters"
   ]
  },
  {
   "cell_type": "code",
   "execution_count": 10,
   "metadata": {},
   "outputs": [],
   "source": [
    "def forward_propagation(X, parameters):\n",
    "    W1 = parameters['W1']\n",
    "    b1 = parameters['b1']\n",
    "    W2 = parameters['W2']\n",
    "    b2 = parameters['b2']\n",
    "    W3 = parameters['W3']\n",
    "    b3 = parameters['b3']\n",
    "    \n",
    "    # Layer 1\n",
    "    Z1 = np.dot(X, W1) + b1\n",
    "    A1 = sigmoid(Z1)\n",
    "\n",
    "    # Layer 2\n",
    "    Z2 = np.dot(A1, W2) + b2\n",
    "    A2 = sigmoid(Z2)\n",
    "    \n",
    "    # Layer 3\n",
    "    Z3 = np.dot(A2, W3) + b3\n",
    "    A3 = sigmoid(Z3)\n",
    "    \n",
    "    cache = {\"Z1\": Z1,\n",
    "             \"A1\": A1,\n",
    "             \"Z2\": Z2,\n",
    "             \"A2\": A2,\n",
    "             \"Z3\": Z3,\n",
    "             \"A3\": A3}\n",
    "    \n",
    "    return A3, cache"
   ]
  },
  {
   "cell_type": "code",
   "execution_count": 11,
   "metadata": {},
   "outputs": [],
   "source": [
    "def compute_cost(A3, Y, parameters):\n",
    "    m = Y.shape[0] # number of examples\n",
    "    # cross entropy\n",
    "    logprobs = np.multiply(np.log(A3), Y) + np.multiply((1 - Y), np.log(1 - A3))\n",
    "    cost = - np.sum(logprobs) / m    \n",
    "    \n",
    "    cost = np.squeeze(cost)\n",
    "    \n",
    "    return cost*100"
   ]
  },
  {
   "cell_type": "code",
   "execution_count": 12,
   "metadata": {},
   "outputs": [],
   "source": [
    "def accuracy(output_vec):\n",
    "    equals = np.equal(np.argmax(y, axis=1), np.argmax(output_vec, axis=1))\n",
    "    acc = np.mean(equals)\n",
    "    return acc"
   ]
  },
  {
   "cell_type": "code",
   "execution_count": 13,
   "metadata": {},
   "outputs": [],
   "source": [
    "def adapt_learning_rate(learning_rate, xi_d, xi_i, er_r, cost, prev_cost):\n",
    "    if cost > er_r*prev_cost:\n",
    "        learning_rate*=xi_d\n",
    "    elif cost < prev_cost:\n",
    "        learning_rate*=xi_i\n",
    "    prev_cost = cost\n",
    "    return learning_rate, prev_cost"
   ]
  },
  {
   "cell_type": "code",
   "execution_count": 14,
   "metadata": {},
   "outputs": [],
   "source": [
    "def backward_propagation(parameters, cache, X, Y):\n",
    "    \"\"\"\n",
    "    Implement the backward propagation using the instructions above.\n",
    "    \n",
    "    Arguments:\n",
    "    parameters -- python dictionary containing our parameters \n",
    "    cache -- a dictionary containing \"Z1\", \"A1\", \"Z2\" and \"A2\".\n",
    "    X -- input data of shape (2, number of examples)\n",
    "    Y -- \"true\" labels vector of shape (1, number of examples)\n",
    "    \n",
    "    Returns:\n",
    "    grads -- python dictionary containing your gradients with respect to different parameters\n",
    "    \"\"\"\n",
    "    \n",
    "    #  m = X.shape[0]\n",
    "    # First, retrieve W1 and W2 from the dictionary \"parameters\".\n",
    "    W1 = parameters['W1']\n",
    "    W2 = parameters['W2']\n",
    "    W3 = parameters['W3']\n",
    "        \n",
    "    # Retrieve also A1 and A2 from dictionary \"cache\".\n",
    "    A1 = cache['A1']\n",
    "    A2 = cache['A2']\n",
    "    A3 = cache['A3']\n",
    "    \n",
    "    Z1 = cache['Z1']\n",
    "    Z2 = cache['Z2']\n",
    "    '''\n",
    "    # Backward propagation: calculate dW1, db1, dW2, db2. \n",
    "    dZ3 = A3 - Y\n",
    "    dW3 = (1 / m) * np.dot(A2.T, dZ3)\n",
    "    db3 = (1 / m) * np.sum(dZ3, axis=1, keepdims=True)\n",
    "    \n",
    "    dZ2 = np.multiply(np.dot(dZ3, W3.T), 1 - np.power(A2, 2))\n",
    "    dW2 = (1 / m) * np.dot(A1.T, dZ2)\n",
    "    db2 = (1 / m) * np.sum(dZ2, axis=1, keepdims=True)\n",
    "    \n",
    "    dZ1 = np.multiply(np.dot(dZ2, W2.T), 1 - np.power(A1, 2))\n",
    "    dW1 = (1 / m) * np.dot(X.T, dZ1)\n",
    "    db1 = (1 / m) * np.sum(dZ1, axis=1, keepdims=True)\n",
    "    \n",
    "    '''\n",
    "    \n",
    "    ########## Layer 3\n",
    "    delta3 = A3-Y\n",
    "    dW3 = np.dot(A2.T, delta3)\n",
    "    db3 = delta3\n",
    "    \n",
    "    ########## Layer 2\n",
    "    delta2 = np.dot(delta3, W3.T) * sigmoid_prime(Z2)\n",
    "    dW2 = np.dot(A1.T, delta2)\n",
    "    db2 = delta2\n",
    "    \n",
    "    ########## Layer 1\n",
    "    delta1 = np.dot(delta2, W2.T) * sigmoid_prime(Z1)\n",
    "    dW1 = np.dot(X.T, delta1)\n",
    "    db1 = delta1\n",
    "    \n",
    "    grads = {\"dW1\": dW1,\n",
    "             \"db1\": db1,\n",
    "             \"dW2\": dW2,\n",
    "             \"db2\": db2,       \n",
    "             \"dW3\": dW3,\n",
    "             \"db3\": db3}\n",
    "    return grads"
   ]
  },
  {
   "cell_type": "code",
   "execution_count": 15,
   "metadata": {},
   "outputs": [],
   "source": [
    "def update_parameters(parameters, grads, learning_rate):\n",
    "    W1 = parameters['W1']\n",
    "    b1 = parameters['b1']\n",
    "    W2 = parameters['W2']\n",
    "    b2 = parameters['b2']\n",
    "    W3 = parameters['W3']\n",
    "    b3 = parameters['b3']\n",
    "\n",
    "    dW1 = grads['dW1']\n",
    "    db1 = grads['db1']\n",
    "    dW2 = grads['dW2']\n",
    "    db2 = grads['db2']\n",
    "    dW3 = grads['dW3']\n",
    "    db3 = grads['db3']\n",
    "\n",
    "    W1 -= learning_rate * dW1\n",
    "    b1 -= learning_rate * db1.sum(axis=0)\n",
    "\n",
    "    W2 -= learning_rate * dW2\n",
    "    b2 -= learning_rate * db2.sum(axis=0)\n",
    "    \n",
    "    W3 -= learning_rate * dW3\n",
    "    b3 -= learning_rate * db3.sum(axis=0)\n",
    "    \n",
    "    parameters = {\"W1\": W1,\n",
    "                  \"b1\": b1,\n",
    "                  \"W2\": W2,\n",
    "                  \"b2\": b2,\n",
    "                  \"W3\": W3,\n",
    "                  \"b3\": b3}\n",
    "    \n",
    "    return parameters"
   ]
  },
  {
   "cell_type": "code",
   "execution_count": 16,
   "metadata": {},
   "outputs": [],
   "source": [
    "def nn_model(X, Y, n_h1, n_h2, xi_d, xi_i, er_r, learning_rate = 0.01, num_iterations = 5000, print_cost=True):\n",
    "    prev_cost = 1000.0\n",
    "    n_x = layer_sizes(X, Y)[0]\n",
    "    n_y = layer_sizes(X, Y)[3]\n",
    "    \n",
    "    parameters = initialize_parameters(n_x, n_h1, n_h2, n_y)\n",
    " \n",
    "    W1 = parameters['W1']\n",
    "    b1 = parameters['b1']\n",
    "    W2 = parameters['W2']\n",
    "    b2 = parameters['b2']\n",
    "    W3 = parameters['W3']\n",
    "    b3 = parameters['b3']\n",
    "    \n",
    "    max_acc = 0;\n",
    "    \n",
    "    for epoch in range(0, num_iterations):\n",
    "         \n",
    "        # Forward propagation. Inputs: \"X, parameters\". Outputs: \"A2, cache\".\n",
    "        A3, cache = forward_propagation(X, parameters)\n",
    "\n",
    "        # Cost function. Inputs: \"A2, Y, parameters\". Outputs: \"cost\".\n",
    "        cost = compute_cost(A3, Y, parameters)\n",
    " \n",
    "        # Backpropagation. Inputs: \"parameters, cache, X, Y\". Outputs: \"grads\".\n",
    "        grads = backward_propagation(parameters, cache, X, Y)\n",
    " \n",
    "        # Adaptive learning rate @@@ not decrement!!\n",
    "        # learning_rate *= 1/(1 + learning_rate/(epoch+1) * epoch)\n",
    "        learning_rate, prev_cost = adapt_learning_rate(learning_rate, xi_d, xi_i, er_r, cost, prev_cost)\n",
    "        # learning_rate = 0.01\n",
    "        # Gradient descent parameter update. Inputs: \"parameters, grads\". Outputs: \"parameters\".\n",
    "        parameters = update_parameters(parameters, grads, learning_rate)\n",
    "\n",
    "        if epoch % 500 == 0:\n",
    "            #loss = -np.sum(y * np.log(A3))\n",
    "            #error_tab.append(cost)\n",
    "            lr_tab.append(learning_rate)\n",
    "            equals = np.equal(np.argmax(y, axis=1), np.argmax(A3, axis=1))\n",
    "            acc = np.mean(equals)\n",
    "            # acc_tab.append(acc)\n",
    "            print(\"Cost after iteration %i: %f, accuracy: %f\" %(epoch, cost, acc))\n",
    "\n",
    "    return parameters, A3"
   ]
  },
  {
   "cell_type": "code",
   "execution_count": 17,
   "metadata": {},
   "outputs": [],
   "source": [
    "def predict(parameters, X):  \n",
    "    # Computes probabilities using forward propagation, and classifies to 0/1 using 0.5 as the threshold.\n",
    "    A3, cache = forward_propagation(X,parameters)\n",
    "    predictions = A3 # > 0.5  \n",
    "    return predictions"
   ]
  },
  {
   "cell_type": "code",
   "execution_count": 18,
   "metadata": {},
   "outputs": [],
   "source": [
    "# Build a model with a n_h-dimensional hidden layer\n",
    "# parameters = nn_model(x, y, n_h1 = 60, n_h2 = 20, learning_rate = 0.01, num_iterations = 10000, print_cost=True)\n",
    "\n",
    "# plot_decision_boundary(lambda x: predict(parameters, x.T), x, y)\n",
    "# plt.title(\"Decision Boundary for hidden layer size \" + str(4));"
   ]
  },
  {
   "cell_type": "code",
   "execution_count": 19,
   "metadata": {},
   "outputs": [],
   "source": [
    "# accuracy plot\n",
    "# plt.plot(range(len(error_tab)), error_tab)\n",
    "\n",
    "# print ('Accuracy: %d' % float((np.dot(Y,predictions.T) + np.dot(1-Y,1-predictions.T))/float(Y.size)*100) + '%')"
   ]
  },
  {
   "cell_type": "code",
   "execution_count": 20,
   "metadata": {},
   "outputs": [],
   "source": [
    "# Create a function called \"chunks\" with two arguments, l and n:\n",
    "def chunks(l, n):\n",
    "    # For item i in a range that is a length of l,\n",
    "    for i in range(0, len(l), n):\n",
    "        # Create an index range for l of n items:\n",
    "        yield l[i:i+n]"
   ]
  },
  {
   "cell_type": "code",
   "execution_count": 21,
   "metadata": {},
   "outputs": [],
   "source": [
    "# plt.plot(range(len(acc_tab)), acc_tab)"
   ]
  },
  {
   "cell_type": "code",
   "execution_count": 22,
   "metadata": {
    "scrolled": true
   },
   "outputs": [
    {
     "name": "stdout",
     "output_type": "stream",
     "text": [
      "Cost after iteration 0: 209.387849, accuracy: 0.323529\n",
      "Cost after iteration 500: 189.989968, accuracy: 0.345588\n",
      "Cost after iteration 1000: 168.988818, accuracy: 0.500000\n",
      "Cost after iteration 1500: 151.843989, accuracy: 0.625000\n",
      "Cost after iteration 2000: 138.307540, accuracy: 0.669118\n",
      "Cost after iteration 2500: 131.817287, accuracy: 0.683824\n",
      "Cost after iteration 3000: 125.607566, accuracy: 0.676471\n",
      "Cost after iteration 3500: 112.090672, accuracy: 0.764706\n",
      "1st layer: 40 2nd layer: 40 Accuracy: 0.7573529411764706\n",
      "Accuracy on test data: 0.4\n",
      "Cost after iteration 0: 207.823094, accuracy: 0.323529\n",
      "Cost after iteration 500: 194.957137, accuracy: 0.360294\n",
      "Cost after iteration 1000: 168.366751, accuracy: 0.500000\n",
      "Cost after iteration 1500: 151.384996, accuracy: 0.588235\n",
      "Cost after iteration 2000: 145.149068, accuracy: 0.580882\n",
      "Cost after iteration 2500: 128.296832, accuracy: 0.647059\n",
      "Cost after iteration 3000: 119.802974, accuracy: 0.647059\n",
      "Cost after iteration 3500: 118.631347, accuracy: 0.691176\n",
      "1st layer: 40 2nd layer: 50 Accuracy: 0.6764705882352942\n",
      "Accuracy on test data: 0.4666666666666667\n",
      "Cost after iteration 0: 207.436026, accuracy: 0.323529\n",
      "Cost after iteration 500: 224.046877, accuracy: 0.360294\n",
      "Cost after iteration 1000: 229.912396, accuracy: 0.360294\n",
      "Cost after iteration 1500: 194.064805, accuracy: 0.367647\n",
      "Cost after iteration 2000: 192.669224, accuracy: 0.367647\n",
      "Cost after iteration 2500: 195.085188, accuracy: 0.367647\n",
      "Cost after iteration 3000: 192.947065, accuracy: 0.367647\n",
      "Cost after iteration 3500: 196.197683, accuracy: 0.367647\n",
      "1st layer: 50 2nd layer: 40 Accuracy: 0.3235294117647059\n",
      "Accuracy on test data: 0.2\n",
      "Cost after iteration 0: 208.730336, accuracy: 0.316176\n",
      "Cost after iteration 500: 197.584831, accuracy: 0.316176\n",
      "Cost after iteration 1000: 183.781510, accuracy: 0.426471\n",
      "Cost after iteration 1500: 171.128977, accuracy: 0.507353\n",
      "Cost after iteration 2000: 163.578306, accuracy: 0.551471\n",
      "Cost after iteration 2500: 154.732914, accuracy: 0.573529\n",
      "Cost after iteration 3000: 147.865258, accuracy: 0.566176\n",
      "Cost after iteration 3500: 148.547081, accuracy: 0.573529\n",
      "1st layer: 50 2nd layer: 50 Accuracy: 0.6102941176470589\n",
      "Accuracy on test data: 0.6666666666666666\n"
     ]
    }
   ],
   "source": [
    "n_number = list(range(40, 60, 10))\n",
    "acc_array = []\n",
    "for n_h1 in n_number:\n",
    "    for n_h2 in n_number:\n",
    "        parameters, A3 = nn_model(x, y, n_h1, n_h2, xi_d=0.9 , xi_i=1.01, er_r=1.02, num_iterations = 4000)\n",
    "        acc = accuracy(output_vec = A3)\n",
    "        acc_array.append(acc)\n",
    "        print(\"1st layer: {} 2nd layer: {} Accuracy: {}\".format(n_h1, n_h2, acc))\n",
    "        \n",
    "        # accuracy on test data\n",
    "        A3, cache = forward_propagation(xt, parameters)\n",
    "        equals = np.equal(np.argmax(yt, axis=1), np.argmax(A3, axis=1))\n",
    "        acc = np.mean(equals)\n",
    "        print(\"Accuracy on test data: {}\".format(acc))"
   ]
  },
  {
   "cell_type": "code",
   "execution_count": 23,
   "metadata": {},
   "outputs": [],
   "source": [
    "# deviding acc_array into chunks\n",
    "acc_array = list(chunks(acc_array, len(n_number)))\n",
    "acc_array = np.array(acc_array)"
   ]
  },
  {
   "cell_type": "code",
   "execution_count": 24,
   "metadata": {},
   "outputs": [
    {
     "data": {
      "text/plain": [
       "<mpl_toolkits.mplot3d.art3d.Poly3DCollection at 0x1195caf0>"
      ]
     },
     "execution_count": 24,
     "metadata": {},
     "output_type": "execute_result"
    },
    {
     "data": {
      "image/png": "[encoded data removed]",
      "text/plain": [
       "<Figure size 432x288 with 1 Axes>"
      ]
     },
     "metadata": {
      "needs_background": "light"
     },
     "output_type": "display_data"
    }
   ],
   "source": [
    "fig = plt.figure()\n",
    "ax = fig.gca(projection='3d')\n",
    "ax.plot_surface(n_number, n_number, acc_array, rstride=1, cstride=1, cmap=cm.coolwarm,\n",
    "    linewidth=0, antialiased=False)"
   ]
  },
  {
   "cell_type": "code",
   "execution_count": 25,
   "metadata": {},
   "outputs": [
    {
     "name": "stdout",
     "output_type": "stream",
     "text": [
      "0.7573529411764706\n"
     ]
    }
   ],
   "source": [
    "print(np.amax(acc_array))"
   ]
  },
  {
   "cell_type": "code",
   "execution_count": 26,
   "metadata": {},
   "outputs": [
    {
     "data": {
      "text/plain": [
       "[<matplotlib.lines.Line2D at 0x119e42f0>]"
      ]
     },
     "execution_count": 26,
     "metadata": {},
     "output_type": "execute_result"
    },
    {
     "data": {
      "image/png": "[encoded data removed]",
      "text/plain": [
       "<Figure size 432x288 with 1 Axes>"
      ]
     },
     "metadata": {
      "needs_background": "light"
     },
     "output_type": "display_data"
    }
   ],
   "source": [
    "plt.plot(range(len(lr_tab)), lr_tab)"
   ]
  },
  {
   "cell_type": "code",
   "execution_count": null,
   "metadata": {},
   "outputs": [],
   "source": []
  }
 ],
 "metadata": {
  "kernelspec": {
   "display_name": "Python 3",
   "language": "python",
   "name": "python3"
  },
  "language_info": {
   "codemirror_mode": {
    "name": "ipython",
    "version": 3
   },
   "file_extension": ".py",
   "mimetype": "text/x-python",
   "name": "python",
   "nbconvert_exporter": "python",
   "pygments_lexer": "ipython3",
   "version": "3.7.3"
  }
 },
 "nbformat": 4,
 "nbformat_minor": 2
}
