{
  "cells": [
    {
      "cell_type": "code",
      "execution_count": 9,
      "metadata": {
        "pycharm": {
          "is_executing": false
        }
      },
      "outputs": [],
      "source": [
        "import numpy as np\n",
        "import pandas as pd\n",
        "import matplotlib.pyplot as plt\n",
        "%matplotlib inline"
      ]
    },
    {
      "cell_type": "code",
      "execution_count": 5,
      "metadata": {
        "pycharm": {
          "is_executing": false
        }
      },
      "outputs": [],
      "source": [
        "np.random.seed(101)"
      ]
    },
    {
      "cell_type": "code",
      "execution_count": 10,
      "metadata": {
        "pycharm": {
          "is_executing": false
        }
      },
      "outputs": [],
      "source": [
        "df \u003d pd.read_csv(\u0027tae.data\u0027, header\u003dNone)"
      ]
    },
    {
      "cell_type": "code",
      "execution_count": 11,
      "metadata": {
        "pycharm": {
          "is_executing": false
        }
      },
      "outputs": [
        {
          "data": {
            "text/plain": "   0   1   2  3   4  5\n0  1  23   3  1  19  3\n1  2  15   3  1  17  3\n2  1  23   3  2  49  3\n3  1   5   2  2  33  3\n4  2   7  11  2  55  3",
            "text/html": "\u003cdiv\u003e\n\u003cstyle scoped\u003e\n    .dataframe tbody tr th:only-of-type {\n        vertical-align: middle;\n    }\n\n    .dataframe tbody tr th {\n        vertical-align: top;\n    }\n\n    .dataframe thead th {\n        text-align: right;\n    }\n\u003c/style\u003e\n\u003ctable border\u003d\"1\" class\u003d\"dataframe\"\u003e\n  \u003cthead\u003e\n    \u003ctr style\u003d\"text-align: right;\"\u003e\n      \u003cth\u003e\u003c/th\u003e\n      \u003cth\u003e0\u003c/th\u003e\n      \u003cth\u003e1\u003c/th\u003e\n      \u003cth\u003e2\u003c/th\u003e\n      \u003cth\u003e3\u003c/th\u003e\n      \u003cth\u003e4\u003c/th\u003e\n      \u003cth\u003e5\u003c/th\u003e\n    \u003c/tr\u003e\n  \u003c/thead\u003e\n  \u003ctbody\u003e\n    \u003ctr\u003e\n      \u003cth\u003e0\u003c/th\u003e\n      \u003ctd\u003e1\u003c/td\u003e\n      \u003ctd\u003e23\u003c/td\u003e\n      \u003ctd\u003e3\u003c/td\u003e\n      \u003ctd\u003e1\u003c/td\u003e\n      \u003ctd\u003e19\u003c/td\u003e\n      \u003ctd\u003e3\u003c/td\u003e\n    \u003c/tr\u003e\n    \u003ctr\u003e\n      \u003cth\u003e1\u003c/th\u003e\n      \u003ctd\u003e2\u003c/td\u003e\n      \u003ctd\u003e15\u003c/td\u003e\n      \u003ctd\u003e3\u003c/td\u003e\n      \u003ctd\u003e1\u003c/td\u003e\n      \u003ctd\u003e17\u003c/td\u003e\n      \u003ctd\u003e3\u003c/td\u003e\n    \u003c/tr\u003e\n    \u003ctr\u003e\n      \u003cth\u003e2\u003c/th\u003e\n      \u003ctd\u003e1\u003c/td\u003e\n      \u003ctd\u003e23\u003c/td\u003e\n      \u003ctd\u003e3\u003c/td\u003e\n      \u003ctd\u003e2\u003c/td\u003e\n      \u003ctd\u003e49\u003c/td\u003e\n      \u003ctd\u003e3\u003c/td\u003e\n    \u003c/tr\u003e\n    \u003ctr\u003e\n      \u003cth\u003e3\u003c/th\u003e\n      \u003ctd\u003e1\u003c/td\u003e\n      \u003ctd\u003e5\u003c/td\u003e\n      \u003ctd\u003e2\u003c/td\u003e\n      \u003ctd\u003e2\u003c/td\u003e\n      \u003ctd\u003e33\u003c/td\u003e\n      \u003ctd\u003e3\u003c/td\u003e\n    \u003c/tr\u003e\n    \u003ctr\u003e\n      \u003cth\u003e4\u003c/th\u003e\n      \u003ctd\u003e2\u003c/td\u003e\n      \u003ctd\u003e7\u003c/td\u003e\n      \u003ctd\u003e11\u003c/td\u003e\n      \u003ctd\u003e2\u003c/td\u003e\n      \u003ctd\u003e55\u003c/td\u003e\n      \u003ctd\u003e3\u003c/td\u003e\n    \u003c/tr\u003e\n  \u003c/tbody\u003e\n\u003c/table\u003e\n\u003c/div\u003e"
          },
          "metadata": {},
          "output_type": "execute_result",
          "execution_count": 11
        }
      ],
      "source": [
        "df.head()"
      ]
    },
    {
      "cell_type": "code",
      "execution_count": 12,
      "metadata": {
        "pycharm": {
          "is_executing": false
        }
      },
      "outputs": [],
      "source": [
        "columns \u003d [\u0027English speaker\u0027, \u0027Course instructor\u0027, \u0027Course\u0027, \u0027Summer or regular semester\u0027, \u0027Class size\u0027, \u0027Class attribute\u0027]"
      ]
    },
    {
      "cell_type": "code",
      "execution_count": 13,
      "metadata": {
        "pycharm": {
          "is_executing": false
        }
      },
      "outputs": [],
      "source": [
        "df.columns \u003d columns"
      ]
    },
    {
      "cell_type": "code",
      "execution_count": 14,
      "metadata": {
        "pycharm": {
          "is_executing": false
        }
      },
      "outputs": [
        {
          "data": {
            "text/plain": "   English speaker  Course instructor  Course  Summer or regular semester  \\\n0                1                 23       3                           1   \n1                2                 15       3                           1   \n2                1                 23       3                           2   \n3                1                  5       2                           2   \n4                2                  7      11                           2   \n\n   Class size  Class attribute  \n0          19                3  \n1          17                3  \n2          49                3  \n3          33                3  \n4          55                3  ",
            "text/html": "\u003cdiv\u003e\n\u003cstyle scoped\u003e\n    .dataframe tbody tr th:only-of-type {\n        vertical-align: middle;\n    }\n\n    .dataframe tbody tr th {\n        vertical-align: top;\n    }\n\n    .dataframe thead th {\n        text-align: right;\n    }\n\u003c/style\u003e\n\u003ctable border\u003d\"1\" class\u003d\"dataframe\"\u003e\n  \u003cthead\u003e\n    \u003ctr style\u003d\"text-align: right;\"\u003e\n      \u003cth\u003e\u003c/th\u003e\n      \u003cth\u003eEnglish speaker\u003c/th\u003e\n      \u003cth\u003eCourse instructor\u003c/th\u003e\n      \u003cth\u003eCourse\u003c/th\u003e\n      \u003cth\u003eSummer or regular semester\u003c/th\u003e\n      \u003cth\u003eClass size\u003c/th\u003e\n      \u003cth\u003eClass attribute\u003c/th\u003e\n    \u003c/tr\u003e\n  \u003c/thead\u003e\n  \u003ctbody\u003e\n    \u003ctr\u003e\n      \u003cth\u003e0\u003c/th\u003e\n      \u003ctd\u003e1\u003c/td\u003e\n      \u003ctd\u003e23\u003c/td\u003e\n      \u003ctd\u003e3\u003c/td\u003e\n      \u003ctd\u003e1\u003c/td\u003e\n      \u003ctd\u003e19\u003c/td\u003e\n      \u003ctd\u003e3\u003c/td\u003e\n    \u003c/tr\u003e\n    \u003ctr\u003e\n      \u003cth\u003e1\u003c/th\u003e\n      \u003ctd\u003e2\u003c/td\u003e\n      \u003ctd\u003e15\u003c/td\u003e\n      \u003ctd\u003e3\u003c/td\u003e\n      \u003ctd\u003e1\u003c/td\u003e\n      \u003ctd\u003e17\u003c/td\u003e\n      \u003ctd\u003e3\u003c/td\u003e\n    \u003c/tr\u003e\n    \u003ctr\u003e\n      \u003cth\u003e2\u003c/th\u003e\n      \u003ctd\u003e1\u003c/td\u003e\n      \u003ctd\u003e23\u003c/td\u003e\n      \u003ctd\u003e3\u003c/td\u003e\n      \u003ctd\u003e2\u003c/td\u003e\n      \u003ctd\u003e49\u003c/td\u003e\n      \u003ctd\u003e3\u003c/td\u003e\n    \u003c/tr\u003e\n    \u003ctr\u003e\n      \u003cth\u003e3\u003c/th\u003e\n      \u003ctd\u003e1\u003c/td\u003e\n      \u003ctd\u003e5\u003c/td\u003e\n      \u003ctd\u003e2\u003c/td\u003e\n      \u003ctd\u003e2\u003c/td\u003e\n      \u003ctd\u003e33\u003c/td\u003e\n      \u003ctd\u003e3\u003c/td\u003e\n    \u003c/tr\u003e\n    \u003ctr\u003e\n      \u003cth\u003e4\u003c/th\u003e\n      \u003ctd\u003e2\u003c/td\u003e\n      \u003ctd\u003e7\u003c/td\u003e\n      \u003ctd\u003e11\u003c/td\u003e\n      \u003ctd\u003e2\u003c/td\u003e\n      \u003ctd\u003e55\u003c/td\u003e\n      \u003ctd\u003e3\u003c/td\u003e\n    \u003c/tr\u003e\n  \u003c/tbody\u003e\n\u003c/table\u003e\n\u003c/div\u003e"
          },
          "metadata": {},
          "output_type": "execute_result",
          "execution_count": 14
        }
      ],
      "source": [
        "df.head()"
      ]
    },
    {
      "cell_type": "code",
      "execution_count": 15,
      "metadata": {
        "pycharm": {
          "is_executing": false
        }
      },
      "outputs": [
        {
          "name": "stdout",
          "text": [
            "\u003cclass \u0027pandas.core.frame.DataFrame\u0027\u003e\nRangeIndex: 151 entries, 0 to 150\nData columns (total 6 columns):\nEnglish speaker               151 non-null int64\nCourse instructor             151 non-null int64\nCourse                        151 non-null int64\nSummer or regular semester    151 non-null int64\nClass size                    151 non-null int64\nClass attribute               151 non-null int64\ndtypes: int64(6)\nmemory usage: 7.1 KB\n"
          ],
          "output_type": "stream"
        }
      ],
      "source": [
        "df.info()"
      ]
    },
    {
      "cell_type": "code",
      "execution_count": 16,
      "metadata": {
        "pycharm": {
          "is_executing": false
        }
      },
      "outputs": [],
      "source": [
        "x \u003d df.drop(\u0027Class attribute\u0027, axis\u003d1).values\n",
        "labels \u003d df[\u0027Class attribute\u0027]\n",
        "y \u003d pd.get_dummies(df[\u0027Class attribute\u0027]).values"
      ]
    },
    {
      "cell_type": "code",
      "execution_count": 17,
      "metadata": {
        "pycharm": {
          "is_executing": false
        }
      },
      "outputs": [
        {
          "data": {
            "text/plain": "(151L, 5L)"
          },
          "metadata": {},
          "output_type": "execute_result",
          "execution_count": 17
        }
      ],
      "source": [
        "x.shape"
      ]
    },
    {
      "cell_type": "code",
      "execution_count": 18,
      "metadata": {
        "pycharm": {
          "is_executing": false
        }
      },
      "outputs": [],
      "source": [
        "num_inputs \u003d 5\n",
        "neurons1 \u003d 50\n",
        "neurons2 \u003d 20\n",
        "num_outputs \u003d 3"
      ]
    },
    {
      "cell_type": "code",
      "execution_count": 19,
      "metadata": {
        "pycharm": {
          "is_executing": false
        }
      },
      "outputs": [],
      "source": [
        "W1 \u003d np.random.randn(num_inputs,neurons1)*0.01\n",
        "b1 \u003d np.zeros(neurons1)\n",
        "\n",
        "W2 \u003d np.random.randn(neurons1,neurons2)*0.01\n",
        "b2 \u003d np.zeros(neurons2)\n",
        "\n",
        "W3 \u003d np.random.randn(neurons2,num_outputs)*0.01\n",
        "b3 \u003d np.zeros(num_outputs)"
      ]
    },
    {
      "cell_type": "code",
      "execution_count": 20,
      "metadata": {
        "pycharm": {
          "is_executing": false
        }
      },
      "outputs": [],
      "source": [
        "# def sigmoid(x):\n",
        "#     return 1 / (1 + np.exp(-x))\n",
        "\n",
        "# def sigmoid_der(x):\n",
        "#     return x * (1 - x)"
      ]
    },
    {
      "cell_type": "code",
      "execution_count": 21,
      "metadata": {
        "pycharm": {
          "is_executing": false
        }
      },
      "outputs": [],
      "source": [
        "def sigmoid(x):  \n",
        "    return 1 / (1 + np.exp(-x))\n",
        "\n",
        "def sigmoid_der(x):  \n",
        "    return sigmoid(x) *(1-sigmoid(x))\n",
        "\n",
        "# def softmax(A):  \n",
        "#     expA \u003d np.exp(A)\n",
        "#     return expA / expA.sum(axis\u003d1, keepdims\u003dTrue)"
      ]
    },
    {
      "cell_type": "code",
      "execution_count": 22,
      "metadata": {
        "pycharm": {
          "is_executing": false
        }
      },
      "outputs": [],
      "source": [
        "lr \u003d 0.01\n",
        "error_tab \u003d []\n",
        "lr_tab \u003d []\n",
        "acc_tab \u003d []\n",
        "epochs \u003d 10000"
      ]
    },
    {
      "cell_type": "code",
      "execution_count": 23,
      "metadata": {
        "scrolled": true,
        "pycharm": {
          "is_executing": false
        }
      },
      "outputs": [
        {
          "name": "stdout",
          "text": [
            "Epoch: 0, Loss: 103.910168746, Accuracy: 0.344370860927\nEpoch: 200, Loss: 157.011247768, Accuracy: 0.397350993377\n",
            "Epoch: 400, Loss: 154.371526893, Accuracy: 0.450331125828\nEpoch: 600, Loss: 141.107012458, Accuracy: 0.53642384106\n",
            "Epoch: 800, Loss: 136.187588761, Accuracy: 0.53642384106\nEpoch: 1000, Loss: 133.074163753, Accuracy: 0.503311258278\n",
            "Epoch: 1200, Loss: 132.181811577, Accuracy: 0.476821192053\nEpoch: 1400, Loss: 115.91541417, Accuracy: 0.629139072848\n",
            "Epoch: 1600, Loss: 109.073111191, Accuracy: 0.682119205298\nEpoch: 1800, Loss: 103.291533248, Accuracy: 0.688741721854\n",
            "Epoch: 2000, Loss: 100.377674013, Accuracy: 0.701986754967\nEpoch: 2200, Loss: 95.5211943239, Accuracy: 0.754966887417\n",
            "Epoch: 2400, Loss: 102.42469758, Accuracy: 0.675496688742\nEpoch: 2600, Loss: 83.3666148056, Accuracy: 0.76821192053\n",
            "Epoch: 2800, Loss: 76.7960448531, Accuracy: 0.748344370861\nEpoch: 3000, Loss: 77.6617642738, Accuracy: 0.801324503311\n",
            "Epoch: 3200, Loss: 72.3250124677, Accuracy: 0.761589403974\nEpoch: 3400, Loss: 69.0497565841, Accuracy: 0.801324503311\n",
            "Epoch: 3600, Loss: 65.6283246666, Accuracy: 0.801324503311\nEpoch: 3800, Loss: 64.2358722071, Accuracy: 0.82119205298\n",
            "Epoch: 4000, Loss: 63.7525336069, Accuracy: 0.827814569536\nEpoch: 4200, Loss: 62.1090220882, Accuracy: 0.834437086093\n",
            "Epoch: 4400, Loss: 60.9869013638, Accuracy: 0.847682119205\nEpoch: 4600, Loss: 59.9110828553, Accuracy: 0.854304635762\n",
            "Epoch: 4800, Loss: 58.4332247597, Accuracy: 0.860927152318\nEpoch: 5000, Loss: 57.4543156207, Accuracy: 0.860927152318\n",
            "Epoch: 5200, Loss: 57.4613071317, Accuracy: 0.860927152318\nEpoch: 5400, Loss: 56.6221711419, Accuracy: 0.860927152318\n",
            "Epoch: 5600, Loss: 56.2014108896, Accuracy: 0.860927152318\nEpoch: 5800, Loss: 55.9285455277, Accuracy: 0.860927152318\n",
            "Epoch: 6000, Loss: 55.3666983801, Accuracy: 0.860927152318\nEpoch: 6200, Loss: 54.8173320356, Accuracy: 0.860927152318\n",
            "Epoch: 6400, Loss: 54.298103862, Accuracy: 0.860927152318\nEpoch: 6600, Loss: 53.8168947507, Accuracy: 0.860927152318\n",
            "Epoch: 6800, Loss: 53.3728468904, Accuracy: 0.860927152318\nEpoch: 7000, Loss: 52.9616889196, Accuracy: 0.860927152318\n",
            "Epoch: 7200, Loss: 52.6289313958, Accuracy: 0.860927152318\nEpoch: 7400, Loss: 52.3403607134, Accuracy: 0.860927152318\n",
            "Epoch: 7600, Loss: 52.0695780053, Accuracy: 0.860927152318\nEpoch: 7800, Loss: 51.8145677028, Accuracy: 0.860927152318\n",
            "Epoch: 8000, Loss: 51.5737265662, Accuracy: 0.860927152318\nEpoch: 8200, Loss: 51.3456921669, Accuracy: 0.860927152318\n",
            "Epoch: 8400, Loss: 51.1292943495, Accuracy: 0.860927152318\n",
            "Epoch: 8600, Loss: 50.9235214956, Accuracy: 0.860927152318\nEpoch: 8800, Loss: 50.7274939296, Accuracy: 0.860927152318\n",
            "Epoch: 9000, Loss: 50.5404425716, Accuracy: 0.860927152318\nEpoch: 9200, Loss: 50.3616917513, Accuracy: 0.860927152318\n",
            "Epoch: 9400, Loss: 50.1906452815, Accuracy: 0.860927152318\nEpoch: 9600, Loss: 50.0267750273, Accuracy: 0.860927152318\n",
            "Epoch: 9800, Loss: 49.8696113599, Accuracy: 0.860927152318\n"
          ],
          "output_type": "stream"
        }
      ],
      "source": [
        "for epoch in range(10000):\n",
        "    \n",
        "    ########## Forward Propagation\n",
        "    \n",
        "    # Layer 1\n",
        "    z1 \u003d np.dot(x, W1) + b1\n",
        "    a1 \u003d sigmoid(z1)\n",
        "\n",
        "    # Layer 2\n",
        "    z2 \u003d np.dot(a1, W2) + b2\n",
        "    a2 \u003d sigmoid(z2)\n",
        "    \n",
        "    # Layer 3\n",
        "    z3 \u003d np.dot(a2, W3) + b3\n",
        "    a3 \u003d sigmoid(z3)\n",
        "    \n",
        "    ########## Back Propagation\n",
        "    \n",
        "    ########## Layer 3\n",
        "    delta3 \u003d a3-y\n",
        "    dW3 \u003d np.dot(a2.T, delta3)\n",
        "    \n",
        "    db3 \u003d delta3\n",
        "    \n",
        "    ########## Layer 2\n",
        "    delta2 \u003d np.dot(delta3, W3.T) * sigmoid_der(z2)\n",
        "    dW2 \u003d np.dot(a1.T, delta2)\n",
        "    \n",
        "    db2 \u003d delta2\n",
        "    \n",
        "    ########## Layer 1\n",
        "    delta1 \u003d np.dot(delta2, W2.T) * sigmoid_der(z1)\n",
        "    dW1 \u003d np.dot(x.T, delta1)\n",
        "    \n",
        "    db1 \u003d delta1\n",
        "    \n",
        "    ########## Adaptive learning rate\n",
        "    lr \u003d lr * 1/(1 + lr/epochs * epoch)\n",
        "    \n",
        "    # Update Weights \u003d\u003d\u003d\u003d\u003d\u003d\u003d\u003d\u003d\u003d\u003d\u003d\u003d\u003d\u003d\u003d\n",
        "    W1 -\u003d lr * dW1\n",
        "    b1 -\u003d lr * db1.sum(axis\u003d0)\n",
        "\n",
        "    W2 -\u003d lr * dW2\n",
        "    b2 -\u003d lr * db2.sum(axis\u003d0)\n",
        "    \n",
        "    W3 -\u003d lr * dW3\n",
        "    b3 -\u003d lr * db3.sum(axis\u003d0)\n",
        "    \n",
        "    if epoch % 200 \u003d\u003d 0:\n",
        "        loss \u003d -np.sum(y * np.log(a3))\n",
        "        error_tab.append(loss)\n",
        "        lr_tab.append(lr)\n",
        "        equals \u003d np.equal(np.argmax(y, axis\u003d1), np.argmax(a3, axis\u003d1))\n",
        "        acc \u003d np.mean(equals)\n",
        "        acc_tab.append(acc)\n",
        "        print(\u0027Epoch: {}, Loss: {}, Accuracy: {}\u0027.format(epoch, loss, acc))"
      ]
    },
    {
      "cell_type": "code",
      "execution_count": 24,
      "metadata": {
        "pycharm": {
          "is_executing": false
        }
      },
      "outputs": [
        {
          "data": {
            "text/plain": "[\u003cmatplotlib.lines.Line2D at 0x108efdd8\u003e]"
          },
          "metadata": {},
          "output_type": "execute_result",
          "execution_count": 24
        },
        {
          "data": {
            "image/png": "[encoded data removed]",
            "text/plain": "\u003cFigure size 432x288 with 1 Axes\u003e"
          },
          "metadata": {
            "needs_background": "light"
          },
          "output_type": "display_data"
        }
      ],
      "source": [
        "plt.plot(range(len(error_tab)), error_tab)"
      ]
    },
    {
      "cell_type": "code",
      "execution_count": 25,
      "metadata": {
        "pycharm": {
          "is_executing": false
        }
      },
      "outputs": [
        {
          "data": {
            "text/plain": "[\u003cmatplotlib.lines.Line2D at 0x1090fdd8\u003e]"
          },
          "metadata": {},
          "output_type": "execute_result",
          "execution_count": 25
        },
        {
          "data": {
            "image/png": "iVBORw0KGgoAAAANSUhEUgAAAXcAAAD8CAYAAACMwORRAAAABHNCSVQICAgIfAhkiAAAAAlwSFlzAAALEgAACxIB0t1+/AAAADl0RVh0U29mdHdhcmUAbWF0cGxvdGxpYiB2ZXJzaW9uIDIuMi40LCBodHRwOi8vbWF0cGxvdGxpYi5vcmcv7US4rQAAHypJREFUeJzt3Xl0XOWZ5/Hvo83yIkuWLcm2Fi9gWxa22YzNkhAwNgNZIEmTDgROhzkJ9PQJIZOkM4FOD91NJ7OkT5Lp00MWsnSTZgtNmkDS5BAJzDpgbIfVkoyFwZYtqSR50WLtqmf+UNnIctkq21W6qqrf5xwd6977+uq5pPTzzXvf973m7oiISGrJCLoAERGJP4W7iEgKUriLiKQghbuISApSuIuIpCCFu4hIClK4i4ikIIW7iEgKUriLiKSgrKB+8Jw5c3zhwoVB/XgRkaS0devWdncvGq9dYOG+cOFCtmzZEtSPFxFJSma2K5Z26pYREUlBCncRkRSkcBcRSUEKdxGRFKRwFxFJQQp3EZEUpHAXEUlBgY1zF5kM3J3XGw/y3DtthMN65aRMjCuWl3B2eUFCf4bCXdLSof4hHn+9iQc27WJbUycAZgEXJWmjeGauwl0knupbOnngld089tpeuvuHqJybx7c/uYJPnlvKjCn6dZDUoU+zpLy+wWF+/3Yz97+ym627DpCTlcHHV83jxrULOK+iANMtu6QghbukrPfbD/Hgq7v5ty2NHOgZZOHsaXzro8u57vwyZk3PCbo8kYRSuEvKeamhnR8/9y4v7GgnM8O4sqqEmy5cwEWLZ5ORobt0SQ8Kd0kZ7s49Gxv4XvU7zJ2Zy9c2LOWzF5RTMjM36NJEJpzCXVJCz8AQ33j0Tf7jzWY+ec58/tefrCI3OzPoskQCo3CXpLf3YC+33LeFupZO7ry6klsvXayHpJL2FO6S1F59bz9/cf9WBobD/OLmC7h8WXHQJYlMCgp3SUoDQ2EeenU33/6PWspnTeOnn1/NGUUzgi5LZNJQuEtSadzfw8Obd/OrzXto7+7nsmVF/OP155I/NTvo0kQmFYW7THrDYefZ7a08sGk3G7e3YsC6yhJuvLCCjywp0vBGkSgU7jJptXb18cjmRh56tZG9B3spypvCly8/k8+uqaC0YGrQ5YlMagp3mVTcnZff3ccDm3bz1LYWhsLOJWfO5lsfW86GqhKyM7VKtUgsFO4yKfQNDnP/K7t4cNNudrYfIn9qNjdfvJDPra1gsR6Uipw0hbsELhx2bnvwj9TUtXJeRQHf/9Oz+ejKeZqEJHIaFO4SuO9Vb6emrpW//UQVN1+yKOhyRFKCOjAlUL99o4l7Nr7L9ReU8/mLFwZdjkjKULhLYN7e28E3Hn2D1Qtmcfe1K7RkgEgcKdwlEG1d/dz6yy0UTsvhRzedT06WPooi8RTTb5SZXWVm282swczuiHK8wsw2mtlrZvammX00/qVKqhgYCvMX929lf88A9/7ZaorypgRdkkjKGTfczSwTuAe4GqgCbjCzqjHN/hp4xN3PBa4HfhjvQiU1uDt3Pf42W3Yd4B+uO5sVpflBlySSkmIZLbMGaHD3nQBm9jBwLVA7qo0DMyPf5wNN8SxSgtXe3c/3q9/hm1dVxryGyw+fbWDr+weO2d8zMMzLO/fxpcvP4BNnz493qSISEUu4lwKNo7b3AGvHtPlb4A9m9mVgOrA+LtXJpPDrrXt4cNNuFhRO488/csa47fcc6OEfntpOacFUCqYd+4/B5y9awNc3LEtEqSISEUu4RxvC4GO2bwD+xd2/Z2YXAf9qZivcPXzUicxuBW4FqKioOJV6JQDVtSEAHnx1N7d8ePG4C3U9/GojBvzqzy/SGjAiAYnlgeoeoHzUdhnHdrt8AXgEwN1fBnKBOWNP5O73uvtqd19dVFR0ahXLhNrX3c/W3QeonJvHrn09vNjQfsL2A0NhHt7cyLrKYgW7SIBiCffNwBIzW2RmOYw8MH1iTJvdwBUAZrackXBvi2ehEoxn6ltxh//x6ZXMnp7D/a/sOmH76toQ7d393Lh2wQRVKCLRjBvu7j4E3AY8BdQxMipmm5ndbWbXRJp9HbjFzN4AHgJudvexXTeShKprQ8zPz+Xc8gI+s7qcp+tbae7oPW77+1/ZRdmsqVy6VP/PTCRIMY1zd/cn3X2pu5/h7t+J7LvL3Z+IfF/r7pe4+9nufo67/yGRRcvE6Bsc5oUd7ayvKsHM+NyaCsLuPPxqY9T2Da3dvLxzHzesqSBTL9AQCZSmBcpxvdTQTu/gMOuXlwBQMXsaly4p4uHNuxkcDh/T/sFNu8nOND57Qfkxx0RkYinc5bhq6kLMmJLF2sWFR/bddOECQp39PF3XelTb3oFhHt3ayFUr5jFnhmacigRN4S5RhcNOTV0rH1lWxJSsD9ZVX1dZzPz8XB7YdPSD1d+92URn3xA3rtUQV5HJQOEuUb2x5yBtXf1siHTJHJaZYVy/poIXdrTzfvuhI/vv37SbM4tnsHZR4dhTiUgAFO4SVU1diMwM4/Jlxcccu/6CcjIzjAdf3Q2MLN37RuNBblxboWV7RSYJhXuaGm+kanVtiDULC8mPsnxA8cxcrqwq4d+2NNI3OMwDm3aRm53Bp88rS1S5InKSFO5p6L//5m0+8+OX6Rscjnp8175DvBPqZn1VSdTjMPJg9UDPII9saeQ3rzVxzdnzY15UTEQST+Gehp7f0caWXQf45q/fjHoHf3gtmbH97aNdfMZsFs+Zzrd/V0fv4DA3XagZqSKTicI9zfQMDLF7fw8VhdN4/PUmfvzczmPa1NSFWFaSR8Xsacc9j5nxubUVDAyHWVmaz6qygkSWLSInSeGeZnaEunGHO6+u5OOr5vHdp+p5pj505PjBngE2v3+ADSfokjnsuvPLKC2Yyn+JYRlgEZlYsSz5Kylke0sXAJXzZnLZsmLeaz/EVx56nce+dDFnFuexcXsrw2E/YX/7YQXTcnjpjnWJLllEToHu3JPc/kMDbPj+c2zdtT+m9vUtXeRmZ1BROI2pOZnc+2ermZKdwS2/3EpHzyA1ta0U501hlV5/J5LUFO5Jrrq2hR2t3VTXto7fGNge6mRpSd6Rhb1KC6byo5vOZ8+BHm576I88904bVywvGfeFHCIyuSnck9zhUH9r78GY2m9v6WJZSd5R+y5YWMjd167ghR3tdPcPsaHq2IlLIpJc1OeexHoHhnmxYeSdKG/u6cDdTzhDtL27n/buAZbNzTvm2A1rKtjZ1s1T20JcfMYxL9ESkSSjO/ck9mJDO32DYT62ah5dfUPs2tdzwvbvRB6mRgt3gG99rIpn//IycrMzox4XkeShcE9iNbUh8qZkccuHFwMji32dSP044Q6or10kRSjck9Rw2Hm6PsRllcWcNX8mOVkZvLWn44R/Z3tLF4XTcyjSeusiKU/hnqRebzxIe/cA65cXk52ZQdW8mby598ThXh8aeZiqlRtFUp/CPUlV14bIyjAuiyzJe3ZZPtv2djAcjr7aYzjs7Ah1nbBLRkRSh8I9SdXUhVi7uPDISowrywo4NDDMzrbuqO33HOilZ2BY4S6SJhTuSei99kM0tHYftWrjqrKRGaVvHqffvb6lEzjxw1QRSR0K9yRUE1mS94pR4X5G0Qym5WTy1nH63Q+vKbO0ROEukg4U7kmoui5E5dw8ygs/WJI3M8NYMT+fN48zHLI+1EV54VRmTNG8NZF0oHBPMvsPDbDl/f1cGWXVxpVl+Wxr6mRwOHzMsZFlB2ZORIkiMgko3JPMxvpWwk7UJXlXleXTPxRmR+joh6r9Q8O8136ISvW3i6QNhXuSqakLUTJzCiujLMl7+G1IYxcRe7f1EMNhZ6nCXSRtKNyTSN/gMM+908b65SVRJyItKJxGXm7WMSNmtodGRsrozl0kfSjck8jLO/fRMzB83LckZWQYq8ryjwn3+pYusjONRXOmT0SZIjIJxBTuZnaVmW03swYzuyPK8R+Y2euRr3fMLLbFxeWkVNeGmJ6TycVnzD5um5WlBdS3dNI/NHxk3/aWLs4omkF2pv4tF0kX4/62m1kmcA9wNVAF3GBmVaPbuPtX3f0cdz8H+Cfg3xNRbDoLh52n60JcurSIKVnHX5J3VVk+g8N+ZFw7jIS7umRE0ksst3JrgAZ33+nuA8DDwLUnaH8D8FA8ipMPvPRuO6HOfjaM8+LqwzNV34h0zXT0DtLc0ceyuRoGKZJOYgn3UqBx1PaeyL5jmNkCYBHwzOmXJoc9/vpevnjfFkoLph41KzWa0oKpFE7P4a3IZKZ3QofXcJ+R8DpFZPKIZbpitPVhoy89CNcDj7r7cLSDZnYrcCtARUVFTAWms+Gw892n6vnJcztZs6iQH9143pGFwo7HzFhZ+sFD1Q9e0KE7d5F0Esud+x6gfNR2GdB0nLbXc4IuGXe/191Xu/vqoqKi2KtMQ519g3zxvs385Lmd3Li2gvu/sJbZMb5k4+yyfHa0dtM7MMz2lk7ycrOYn5+b4IpFZDKJ5c59M7DEzBYBexkJ8M+NbWRmy4BZwMtxrTAN7Wzr5ou/3MLufT18+5MruOnCBSf191eWFTAcdmqbOyLLDugFHSLpZtxwd/chM7sNeArIBH7h7tvM7G5gi7s/EWl6A/Cwux+vy0bG0TMwxG9ea+J//r6O7MwM7v/iWi5cfPxhj8dz5KFqYwf1LV1cc/b8eJcqIpNcTEsEuvuTwJNj9t01Zvtv41dWetne0sUDm3bx2B/30tU/xNnlBfzfG849atXHk1EyM5eSmVOorg3R1TekNdxF0pDWfw1I/9Awv3+rhftf2cWWXQfIycrgYyvncdOFFZxXMeu0u1FWlhZQUzey7vsyreEuknYU7gG57cHXqK4NsWD2NP7qo5Vcd345hdNz4nb+VWX5R8K9UiNlRNKOwj0ABw4N8Ex9KzdfvJC7Pl5FRkb8H3aujPS7z52ZS/60Ew+fFJHUo8VGArBxeyvDYedT55YmJNgBVkWWBFZ/u0h60p17AGrqQhTnRV+TPV5mz5jCFZXFrFtenLCfISKTl8J9gvUPDfPc9jauTeBd+2E/v/mChJ5fRCYvdctMsJff3cehgWE2jLNGjIjI6VC4T7Dq2hDTcjK56ARrsouInC6F+wRyd2rqQly6pIjc7OOvyS4icroU7hPorb0dhDr7j/uaPBGReFG4T6Ca2hAZBusqNYJFRBJL4T6BqutaWb2gMK4zUUVEolG4T5DG/T3UNXeO+5o8EZF4ULhPkKcj67yov11EJoLCfYJU14U4s3gGi+ZMD7oUEUkDCvcJ0NE7yKad+1mviUsiMkEU7hPg2e2tDIVd/e0iMmEU7hOgpq6VOTNyOKe8IOhSRCRNKNwTbGAozLP1rayrLCYzwQuFiYgcpnBPsFff209X/xAbquYGXYqIpBGFe4JV17aQm53Bh86cE3QpIpJGFO4JVlPXyofOLGJqjhYKE5GJo3BPoEP9Q+w92Mt5C/QgVUQmlsI9gVo6+4CRl1SLiEwkhXsChToi4Z6vcBeRiaVwTyDduYtIUBTuCXQk3HXnLiITTOGeQC0dfczMzWJaTlbQpYhImlG4J1BLR5/u2kUkEDGFu5ldZWbbzazBzO44Tps/NbNaM9tmZg/Gt8zkFOrso0T97SISgHH7C8wsE7gH2ADsATab2RPuXjuqzRLgTuASdz9gZnpJKCN97ktL8oIuQ0TSUCx37muABnff6e4DwMPAtWPa3ALc4+4HANy9Nb5lJp+h4TBtXf3MU7eMiAQglnAvBRpHbe+J7BttKbDUzF4ys1fM7Kp4FZis2rr7CTuUKNxFJACxDOOItk6tRznPEuAyoAx4wcxWuPvBo05kditwK0BFRcVJF5tMWjo0xl1EghPLnfseoHzUdhnQFKXN4+4+6O7vAdsZCfujuPu97r7a3VcXFRWdas1JoUWzU0UkQLGE+2ZgiZktMrMc4HrgiTFtfgNcDmBmcxjpptkZz0KTjWanikiQxg13dx8CbgOeAuqAR9x9m5ndbWbXRJo9Bewzs1pgI/ANd9+XqKKTQUtnHzmZGRROzwm6FBFJQzFNnXT3J4Enx+y7a9T3Dnwt8iWMLBpWPHMKZnq1nohMPM1QTZDmjj4NgxSRwCjcE0SzU0UkSAr3BHB3Wjr79DBVRAKjcE+Azt4h+gbDGgYpIoFRuCdAc2cvoDHuIhIchXsCaHaqiARN4Z4AocgEJj1QFZGgKNwToLlD4S4iwVK4J0Cos485M3LIydJ/XhEJhtInAVo6NMZdRIKlcE+Als5+PUwVkUAp3BOgpaNXwyBFJFAK9zjrGxzmQM+g7txFJFAK9zhr7ewH9Ho9EQmWwj3ODr+kQytCikiQFO5x1twRWXpA3TIiEiCFe5wdmZ2qO3cRCZDCPc5aOvqZlpNJ3pSYXnIlIpIQaZ1AO9u6qW/pinpscdF0KufOPOlztnSODIPU6/VEJEhpHe63/utWGlq7ox6bMSWLF795OQXTTu4F1y0dekmHiAQvbcO9u3+Id9u6ufnihdywpuKoY00dvfznf97MP7/0Pl/dsPSkzhvq7GftosJ4lioictLSNtzrmztxhw+dOYdlc/OOOrZsbh7/6awSfvHSe3zhw4uYmZsd0znDYSfU2afZqSISuLR9oFrb3AnAWaXR+9W/vG4JXX1D/PL/vR/zOdsP9TMUdoW7iAQufcO9qZNZ07KP2z++ojSfKyqL+dmL79HdPxTTOUMdkdmp6nMXkYClb7g3d1I1f+YJR7V8+YolHOwZ5P5XdsV0zsOzU/VAVUSClpbhPjgcpr6li7Pm55+w3TnlBVy6tIifPr+TnoHx79619ICITBZpGe472w4xMBSmat7449hvX3cm+w4N8OCm3eO2benoJTPDmD1jSjzKFBE5ZWkZ7rXNHQBUzR8/3FcvLOSixbP5yfM76RscPmHblo5+ivOmkJmhCUwiEqz0DPemTqZkZbB4zvSY2t9+xRLauvr51ebGE7YLder1eiIyOaRluG9r6qRybh5ZmbFd/oWLC7lg4Sx+9Oy79A8d/+69uaNX/e0iMinElG5mdpWZbTezBjO7I8rxm82szcxej3x9Mf6lxoe7HxkpEysz4/YrltDS2cejW/cct12os1937iIyKYwb7maWCdwDXA1UATeYWVWUpr9y93MiXz+Lc51x09zRx8GewZgepo72oTPncE55AT/cGP3uvbt/iO7+IU1gEpFJIZY79zVAg7vvdPcB4GHg2sSWlTi1TSMzU0/mzh1G7t6/tmEpew/28tPndx5zvKVDwyBFZPKIJdxLgdFPEvdE9o31J2b2ppk9ambl0U5kZrea2RYz29LW1nYK5Z6+bU2dmHFKy/leurSIq1fM5Z+eaaBxf89Rxw6Hu7plRGQyiCXco43r8zHbvwUWuvsqoAa4L9qJ3P1ed1/t7quLiopOrtI4qW3uYNHs6Uw/xZdp3PWJKrIyjL95YhvuH/xn0OxUEZlMYgn3PcDoO/EyoGl0A3ff5+79kc2fAufHp7z4q23uZPlJdsmMNi9/Kl/dsJRn6lt5alvoyP7Dr9dTn7uITAaxhPtmYImZLTKzHOB64InRDcxs3qjNa4C6+JUYPx29gzTu7+Ws0wh3gJsvXkjl3Dz+7rfbOBRZVKylo4+CadnkZmfGo1QRkdMybri7+xBwG/AUI6H9iLtvM7O7zeyaSLPbzWybmb0B3A7cnKiCT0ddZJnfkx0pM1ZWZgbf+dQKmjv6+MendwAjo3DUJSMik0VMHc/u/iTw5Jh9d436/k7gzviWFn+nOlImmvMXFHL9BeX8/MX3+PR5pZqdKiKTSlrNUK1t7mTOjCkU58UnhL95VSUzc7P468feprmjT8MgRWTSSKtw39bUedr97aPNmp7DnVcvZ8uuA7R3a3aqiEweaRPuA0NhGlq74tIlM9p155exesEsQCNlRGTySJtw39HaxeCwn/bD1LEyMozvfGolZbOmcnZZQVzPLSJyqk5tJk8SOvwwNZ7dMoctm5vHi99cF/fzioicqrS5c9/W1Mm0nEwWzI5tDXcRkWSWNuFe2zyyhrvekiQi6SAtwt3dqWs6uTXcRUSSWVqE+54DvXT1D3HW/PygSxERmRBpEe7bmiIvxI7zSBkRkckqLcK9tqmTDBsZ1SIikg7SI9ybOzmjaIZWbBSRtJEe4R7nZQdERCa7lA/3poO9NHX0saJUD1NFJH2kfLjX1I28LenyyuKAKxERmTgpH+7VtSEWz5nOGUUzgi5FRGTCpHS4d/YN8srOfWyoKgm6FBGRCZXS4f78O20MDjvrFe4ikmZSOtxrakMUTs/hvIpZQZciIjKhUjbcB4fDPFPfyrrKYi0WJiJpJ2XDffP7++nsG2L9cnXJiEj6Sdlwr64NkZOVwaVL5wRdiojIhEvJcHd3aupCfOjMOUzLSZuXTYmIHJGS4b491EXj/l4NgRSRtJWS4V5TOzIr9QrNShWRNJWS4V5d18o55QUUz8wNuhQRkUCkXLiHOvt4o/GgumREJK2lXLg/XdcKoCGQIpLWUi7cq2tbqCicxtISLRQmIukrpnA3s6vMbLuZNZjZHSdod52ZuZmtjl+JsTvUP8RL7+5j/fISzDQrVUTS17jhbmaZwD3A1UAVcIOZVUVplwfcDmyKd5GxemFHGwNDYfW3i0jai+XOfQ3Q4O473X0AeBi4Nkq7vwe+C/TFsb6TUl3bSv7UbFYv1EJhIpLeYgn3UqBx1PaeyL4jzOxcoNzdfxfH2k7KcNh5pj7E5cuKyM5MuUcJIiInJZYUjNZ57UcOmmUAPwC+Pu6JzG41sy1mtqWtrS32KmOwddcBDvQMau12ERFiC/c9QPmo7TKgadR2HrACeNbM3gcuBJ6I9lDV3e9199XuvrqoqOjUq46ipi5EdqbxkaXxPa+ISDKKJdw3A0vMbJGZ5QDXA08cPujuHe4+x90XuvtC4BXgGnffkpCKo3B3qmtDXHTGHPJysyfqx4qITFrjhru7DwG3AU8BdcAj7r7NzO42s2sSXWAs3m07xHvth9iwXGvJiIgAxLQerrs/CTw5Zt9dx2l72emXdXKqIwuFqb9dRGRESgwrqakLsaJ0JvPypwZdiojIpJD04d7W1c8fdx9gw/K5QZciIjJpJH24b6xvxR3WV6m/XUTksKQP9z/UhigtmErVvJlBlyIiMmkkdbj3DgzzYkMb65cXa6EwEZFRkjrcX2pop28wrFEyIiJjJHW4V9eGyJuSxdpFs4MuRURkUknacA+HnafrQ3xkWRE5WUl7GSIiCZG0qfha40Hauwe0druISBRJG+41dSGyMozLlmkIpIjIWEkb7tW1IdYuLiR/qhYKExEZKynD/b32QzS0drN+ubpkRESiScpwrzm8UJjCXUQkqqQM9+q6EJVz8ygvnBZ0KSIik1LShfv+QwNseX8/V2qUjIjIcSVduG+sbyXsWrtdROREki7cZ07N5sqqElaW5gddiojIpBXTm5gmkw1VJZq4JCIyjqS7cxcRkfEp3EVEUpDCXUQkBSncRURSkMJdRCQFKdxFRFKQwl1EJAUp3EVEUpC5ezA/2KwN2HWKf30O0B7HcpJFul43pO+167rTSyzXvcDdi8Y7UWDhfjrMbIu7rw66jomWrtcN6Xvtuu70Es/rVreMiEgKUriLiKSgZA33e4MuICDpet2Qvteu604vcbvupOxzFxGRE0vWO3cRETmBpAt3M7vKzLabWYOZ3RF0PYliZr8ws1Yze3vUvkIzqzazHZE/ZwVZYyKYWbmZbTSzOjPbZmZfiexP6Ws3s1wze9XM3ohc999F9i8ys02R6/6VmeUEXWsimFmmmb1mZr+LbKf8dZvZ+2b2lpm9bmZbIvvi9jlPqnA3s0zgHuBqoAq4wcyqgq0qYf4FuGrMvjuAp919CfB0ZDvVDAFfd/flwIXAlyL/G6f6tfcD69z9bOAc4CozuxD438APItd9APhCgDUm0leAulHb6XLdl7v7OaOGP8btc55U4Q6sARrcfae7DwAPA9cGXFNCuPvzwP4xu68F7ot8fx/wyQktagK4e7O7/zHyfRcjv/ClpPi1+4juyGZ25MuBdcCjkf0pd90AZlYGfAz4WWTbSIPrPo64fc6TLdxLgcZR23si+9JFibs3w0gIAsUB15NQZrYQOBfYRBpce6Rr4nWgFagG3gUOuvtQpEmqft7/D/DfgHBkezbpcd0O/MHMtprZrZF9cfucJ9s7VC3KPg33SUFmNgP4NfBf3b1z5GYutbn7MHCOmRUAjwHLozWb2KoSy8w+DrS6+1Yzu+zw7ihNU+q6Iy5x9yYzKwaqzaw+nidPtjv3PUD5qO0yoCmgWoIQMrN5AJE/WwOuJyHMLJuRYH/A3f89sjstrh3A3Q8CzzLyzKHAzA7fhKXi5/0S4Boze5+RbtZ1jNzJp/p14+5NkT9bGfnHfA1x/JwnW7hvBpZEnqTnANcDTwRc00R6Avh85PvPA48HWEtCRPpbfw7Uufv3Rx1K6Ws3s6LIHTtmNhVYz8jzho3AdZFmKXfd7n6nu5e5+0JGfp+fcfcbSfHrNrPpZpZ3+HvgSuBt4vg5T7pJTGb2UUb+Zc8EfuHu3wm4pIQws4eAyxhZJS4E/A3wG+ARoALYDXzG3cc+dE1qZvYh4AXgLT7og/0rRvrdU/bazWwVIw/QMhm56XrE3e82s8WM3NEWAq8BN7l7f3CVJk6kW+Yv3f3jqX7dket7LLKZBTzo7t8xs9nE6XOedOEuIiLjS7ZuGRERiYHCXUQkBSncRURSkMJdRCQFKdxFRFKQwl1EJAUp3EVEUpDCXUQkBf1/2SD/8MM2wRAAAAAASUVORK5CYII\u003d\n",
            "text/plain": "\u003cFigure size 432x288 with 1 Axes\u003e"
          },
          "metadata": {
            "needs_background": "light"
          },
          "output_type": "display_data"
        }
      ],
      "source": [
        "plt.plot(range(len(acc_tab)), acc_tab)"
      ]
    },
    {
      "cell_type": "code",
      "execution_count": 26,
      "metadata": {
        "pycharm": {
          "is_executing": false
        }
      },
      "outputs": [
        {
          "data": {
            "text/plain": "[\u003cmatplotlib.lines.Line2D at 0x10c85978\u003e]"
          },
          "metadata": {},
          "output_type": "execute_result",
          "execution_count": 26
        },
        {
          "data": {
            "image/png": "[encoded data removed]",
            "text/plain": "\u003cFigure size 432x288 with 1 Axes\u003e"
          },
          "metadata": {
            "needs_background": "light"
          },
          "output_type": "display_data"
        }
      ],
      "source": [
        "plt.plot(range(len(lr_tab)), lr_tab)"
      ]
    },
    {
      "cell_type": "code",
      "execution_count": 26,
      "metadata": {
        "pycharm": {
          "is_executing": false
        }
      },
      "outputs": [],
      "source": ""
    }
  ],
  "metadata": {
    "kernelspec": {
      "display_name": "Python 2",
      "language": "python",
      "name": "python2"
    },
    "language_info": {
      "codemirror_mode": {
        "name": "ipython",
        "version": 2
      },
      "file_extension": ".py",
      "mimetype": "text/x-python",
      "name": "python",
      "nbconvert_exporter": "python",
      "pygments_lexer": "ipython2",
      "version": "2.7.16"
    }
  },
  "nbformat": 4,
  "nbformat_minor": 2
}