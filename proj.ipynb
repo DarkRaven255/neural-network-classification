{
  "cells": [
    {
      "cell_type": "code",
      "execution_count": 2,
      "metadata": {
        "pycharm": {
          "is_executing": false
        }
      },
      "outputs": [],
      "source": "import numpy as np\nimport pandas as pd\nimport matplotlib.pyplot as plt\n%matplotlib inline"
    },
    {
      "cell_type": "code",
      "execution_count": 3,
      "metadata": {
        "pycharm": {
          "is_executing": false
        }
      },
      "outputs": [],
      "source": [
        "np.random.seed(101)"
      ]
    },
    {
      "cell_type": "code",
      "execution_count": 4,
      "metadata": {
        "pycharm": {
          "is_executing": false
        }
      },
      "outputs": [],
      "source": [
        "df \u003d pd.read_csv(\u0027tae.data\u0027, header\u003dNone)"
      ]
    },
    {
      "cell_type": "code",
      "execution_count": 5,
      "metadata": {
        "pycharm": {
          "is_executing": false
        }
      },
      "outputs": [
        {
          "data": {
            "text/plain": "   0   1   2  3   4  5\n0  1  23   3  1  19  3\n1  2  15   3  1  17  3\n2  1  23   3  2  49  3\n3  1   5   2  2  33  3\n4  2   7  11  2  55  3",
            "text/html": "\u003cdiv\u003e\n\u003cstyle scoped\u003e\n    .dataframe tbody tr th:only-of-type {\n        vertical-align: middle;\n    }\n\n    .dataframe tbody tr th {\n        vertical-align: top;\n    }\n\n    .dataframe thead th {\n        text-align: right;\n    }\n\u003c/style\u003e\n\u003ctable border\u003d\"1\" class\u003d\"dataframe\"\u003e\n  \u003cthead\u003e\n    \u003ctr style\u003d\"text-align: right;\"\u003e\n      \u003cth\u003e\u003c/th\u003e\n      \u003cth\u003e0\u003c/th\u003e\n      \u003cth\u003e1\u003c/th\u003e\n      \u003cth\u003e2\u003c/th\u003e\n      \u003cth\u003e3\u003c/th\u003e\n      \u003cth\u003e4\u003c/th\u003e\n      \u003cth\u003e5\u003c/th\u003e\n    \u003c/tr\u003e\n  \u003c/thead\u003e\n  \u003ctbody\u003e\n    \u003ctr\u003e\n      \u003cth\u003e0\u003c/th\u003e\n      \u003ctd\u003e1\u003c/td\u003e\n      \u003ctd\u003e23\u003c/td\u003e\n      \u003ctd\u003e3\u003c/td\u003e\n      \u003ctd\u003e1\u003c/td\u003e\n      \u003ctd\u003e19\u003c/td\u003e\n      \u003ctd\u003e3\u003c/td\u003e\n    \u003c/tr\u003e\n    \u003ctr\u003e\n      \u003cth\u003e1\u003c/th\u003e\n      \u003ctd\u003e2\u003c/td\u003e\n      \u003ctd\u003e15\u003c/td\u003e\n      \u003ctd\u003e3\u003c/td\u003e\n      \u003ctd\u003e1\u003c/td\u003e\n      \u003ctd\u003e17\u003c/td\u003e\n      \u003ctd\u003e3\u003c/td\u003e\n    \u003c/tr\u003e\n    \u003ctr\u003e\n      \u003cth\u003e2\u003c/th\u003e\n      \u003ctd\u003e1\u003c/td\u003e\n      \u003ctd\u003e23\u003c/td\u003e\n      \u003ctd\u003e3\u003c/td\u003e\n      \u003ctd\u003e2\u003c/td\u003e\n      \u003ctd\u003e49\u003c/td\u003e\n      \u003ctd\u003e3\u003c/td\u003e\n    \u003c/tr\u003e\n    \u003ctr\u003e\n      \u003cth\u003e3\u003c/th\u003e\n      \u003ctd\u003e1\u003c/td\u003e\n      \u003ctd\u003e5\u003c/td\u003e\n      \u003ctd\u003e2\u003c/td\u003e\n      \u003ctd\u003e2\u003c/td\u003e\n      \u003ctd\u003e33\u003c/td\u003e\n      \u003ctd\u003e3\u003c/td\u003e\n    \u003c/tr\u003e\n    \u003ctr\u003e\n      \u003cth\u003e4\u003c/th\u003e\n      \u003ctd\u003e2\u003c/td\u003e\n      \u003ctd\u003e7\u003c/td\u003e\n      \u003ctd\u003e11\u003c/td\u003e\n      \u003ctd\u003e2\u003c/td\u003e\n      \u003ctd\u003e55\u003c/td\u003e\n      \u003ctd\u003e3\u003c/td\u003e\n    \u003c/tr\u003e\n  \u003c/tbody\u003e\n\u003c/table\u003e\n\u003c/div\u003e"
          },
          "metadata": {},
          "output_type": "execute_result",
          "execution_count": 5
        }
      ],
      "source": [
        "df.head()"
      ]
    },
    {
      "cell_type": "code",
      "execution_count": 6,
      "metadata": {
        "pycharm": {
          "is_executing": false
        }
      },
      "outputs": [],
      "source": [
        "columns \u003d [\u0027English speaker\u0027, \u0027Course instructor\u0027, \u0027Course\u0027, \u0027Summer or regular semester\u0027, \u0027Class size\u0027, \u0027Class attribute\u0027]"
      ]
    },
    {
      "cell_type": "code",
      "execution_count": 7,
      "metadata": {
        "pycharm": {
          "is_executing": false
        }
      },
      "outputs": [],
      "source": [
        "df.columns \u003d columns"
      ]
    },
    {
      "cell_type": "code",
      "execution_count": 8,
      "metadata": {
        "pycharm": {
          "is_executing": false
        }
      },
      "outputs": [
        {
          "data": {
            "text/plain": "   English speaker  Course instructor  Course  Summer or regular semester  \\\n0                1                 23       3                           1   \n1                2                 15       3                           1   \n2                1                 23       3                           2   \n3                1                  5       2                           2   \n4                2                  7      11                           2   \n\n   Class size  Class attribute  \n0          19                3  \n1          17                3  \n2          49                3  \n3          33                3  \n4          55                3  ",
            "text/html": "\u003cdiv\u003e\n\u003cstyle scoped\u003e\n    .dataframe tbody tr th:only-of-type {\n        vertical-align: middle;\n    }\n\n    .dataframe tbody tr th {\n        vertical-align: top;\n    }\n\n    .dataframe thead th {\n        text-align: right;\n    }\n\u003c/style\u003e\n\u003ctable border\u003d\"1\" class\u003d\"dataframe\"\u003e\n  \u003cthead\u003e\n    \u003ctr style\u003d\"text-align: right;\"\u003e\n      \u003cth\u003e\u003c/th\u003e\n      \u003cth\u003eEnglish speaker\u003c/th\u003e\n      \u003cth\u003eCourse instructor\u003c/th\u003e\n      \u003cth\u003eCourse\u003c/th\u003e\n      \u003cth\u003eSummer or regular semester\u003c/th\u003e\n      \u003cth\u003eClass size\u003c/th\u003e\n      \u003cth\u003eClass attribute\u003c/th\u003e\n    \u003c/tr\u003e\n  \u003c/thead\u003e\n  \u003ctbody\u003e\n    \u003ctr\u003e\n      \u003cth\u003e0\u003c/th\u003e\n      \u003ctd\u003e1\u003c/td\u003e\n      \u003ctd\u003e23\u003c/td\u003e\n      \u003ctd\u003e3\u003c/td\u003e\n      \u003ctd\u003e1\u003c/td\u003e\n      \u003ctd\u003e19\u003c/td\u003e\n      \u003ctd\u003e3\u003c/td\u003e\n    \u003c/tr\u003e\n    \u003ctr\u003e\n      \u003cth\u003e1\u003c/th\u003e\n      \u003ctd\u003e2\u003c/td\u003e\n      \u003ctd\u003e15\u003c/td\u003e\n      \u003ctd\u003e3\u003c/td\u003e\n      \u003ctd\u003e1\u003c/td\u003e\n      \u003ctd\u003e17\u003c/td\u003e\n      \u003ctd\u003e3\u003c/td\u003e\n    \u003c/tr\u003e\n    \u003ctr\u003e\n      \u003cth\u003e2\u003c/th\u003e\n      \u003ctd\u003e1\u003c/td\u003e\n      \u003ctd\u003e23\u003c/td\u003e\n      \u003ctd\u003e3\u003c/td\u003e\n      \u003ctd\u003e2\u003c/td\u003e\n      \u003ctd\u003e49\u003c/td\u003e\n      \u003ctd\u003e3\u003c/td\u003e\n    \u003c/tr\u003e\n    \u003ctr\u003e\n      \u003cth\u003e3\u003c/th\u003e\n      \u003ctd\u003e1\u003c/td\u003e\n      \u003ctd\u003e5\u003c/td\u003e\n      \u003ctd\u003e2\u003c/td\u003e\n      \u003ctd\u003e2\u003c/td\u003e\n      \u003ctd\u003e33\u003c/td\u003e\n      \u003ctd\u003e3\u003c/td\u003e\n    \u003c/tr\u003e\n    \u003ctr\u003e\n      \u003cth\u003e4\u003c/th\u003e\n      \u003ctd\u003e2\u003c/td\u003e\n      \u003ctd\u003e7\u003c/td\u003e\n      \u003ctd\u003e11\u003c/td\u003e\n      \u003ctd\u003e2\u003c/td\u003e\n      \u003ctd\u003e55\u003c/td\u003e\n      \u003ctd\u003e3\u003c/td\u003e\n    \u003c/tr\u003e\n  \u003c/tbody\u003e\n\u003c/table\u003e\n\u003c/div\u003e"
          },
          "metadata": {},
          "output_type": "execute_result",
          "execution_count": 8
        }
      ],
      "source": [
        "df.head()"
      ]
    },
    {
      "cell_type": "code",
      "execution_count": 9,
      "metadata": {
        "pycharm": {
          "is_executing": false
        }
      },
      "outputs": [
        {
          "name": "stdout",
          "text": [
            "\u003cclass \u0027pandas.core.frame.DataFrame\u0027\u003e\nRangeIndex: 151 entries, 0 to 150\nData columns (total 6 columns):\nEnglish speaker               151 non-null int64\nCourse instructor             151 non-null int64\nCourse                        151 non-null int64\nSummer or regular semester    151 non-null int64\nClass size                    151 non-null int64\nClass attribute               151 non-null int64\ndtypes: int64(6)\nmemory usage: 7.1 KB\n"
          ],
          "output_type": "stream"
        }
      ],
      "source": [
        "df.info()"
      ]
    },
    {
      "cell_type": "code",
      "execution_count": 10,
      "metadata": {
        "pycharm": {
          "is_executing": false
        }
      },
      "outputs": [],
      "source": [
        "x \u003d df.drop(\u0027Class attribute\u0027, axis\u003d1).values\n",
        "labels \u003d df[\u0027Class attribute\u0027]\n",
        "y \u003d pd.get_dummies(df[\u0027Class attribute\u0027]).values"
      ]
    },
    {
      "cell_type": "code",
      "execution_count": 11,
      "metadata": {
        "pycharm": {
          "is_executing": false
        }
      },
      "outputs": [
        {
          "data": {
            "text/plain": "(151L, 5L)"
          },
          "metadata": {},
          "output_type": "execute_result",
          "execution_count": 11
        }
      ],
      "source": [
        "x.shape"
      ]
    },
    {
      "cell_type": "code",
      "execution_count": 12,
      "metadata": {
        "pycharm": {
          "is_executing": false
        }
      },
      "outputs": [],
      "source": [
        "num_inputs \u003d 5\n",
        "neurons1 \u003d 50\n",
        "neurons2 \u003d 20\n",
        "num_outputs \u003d 3"
      ]
    },
    {
      "cell_type": "code",
      "execution_count": 13,
      "metadata": {
        "pycharm": {
          "is_executing": false
        }
      },
      "outputs": [],
      "source": [
        "W1 \u003d np.random.randn(num_inputs,neurons1)\n",
        "b1 \u003d np.zeros(neurons1)\n",
        "\n",
        "W2 \u003d np.random.randn(neurons1,neurons2)\n",
        "b2 \u003d np.zeros(neurons2)\n",
        "\n",
        "W3 \u003d np.random.randn(neurons2,num_outputs)\n",
        "b3 \u003d np.zeros(num_outputs)"
      ]
    },
    {
      "cell_type": "code",
      "execution_count": 14,
      "metadata": {
        "pycharm": {
          "is_executing": false
        }
      },
      "outputs": [],
      "source": [
        "# def sigmoid(x):\n",
        "#     return 1 / (1 + np.exp(-x))\n",
        "\n",
        "# def sigmoid_der(x):\n",
        "#     return x * (1 - x)"
      ]
    },
    {
      "cell_type": "code",
      "execution_count": 15,
      "metadata": {
        "pycharm": {
          "is_executing": false
        }
      },
      "outputs": [],
      "source": [
        "def sigmoid(x):  \n",
        "    return 1 / (1 + np.exp(-x))\n",
        "\n",
        "def sigmoid_der(x):  \n",
        "    return sigmoid(x) *(1-sigmoid(x))\n",
        "\n",
        "# def softmax(A):  \n",
        "#     expA \u003d np.exp(A)\n",
        "#     return expA / expA.sum(axis\u003d1, keepdims\u003dTrue)"
      ]
    },
    {
      "cell_type": "code",
      "execution_count": 16,
      "metadata": {
        "pycharm": {
          "is_executing": false
        }
      },
      "outputs": [],
      "source": [
        "lr \u003d 0.01\n",
        "error_tab \u003d []\n",
        "lr_tab \u003d []\n",
        "acc_tab \u003d []\n",
        "epochs \u003d 10000"
      ]
    },
    {
      "cell_type": "code",
      "execution_count": 17,
      "metadata": {
        "scrolled": true,
        "pycharm": {
          "is_executing": false
        }
      },
      "outputs": [
        {
          "name": "stdout",
          "text": [
            "Epoch: 0, Loss: 71.5045126415, Accuracy: 0.344370860927\n",
            "Epoch: 200, Loss: 152.579781138, Accuracy: 0.496688741722\n",
            "Epoch: 400, Loss: 130.444527713, Accuracy: 0.562913907285\n",
            "Epoch: 600, Loss: 130.874628019, Accuracy: 0.562913907285\n",
            "Epoch: 800, Loss: 119.826939192, Accuracy: 0.556291390728\n",
            "Epoch: 1000, Loss: 113.67708601, Accuracy: 0.635761589404\n",
            "Epoch: 1200, Loss: 115.185199777, Accuracy: 0.649006622517\n",
            "Epoch: 1400, Loss: 130.185065583, Accuracy: 0.622516556291\n",
            "Epoch: 1600, Loss: 93.2446171031, Accuracy: 0.688741721854\n",
            "Epoch: 1800, Loss: 97.8688703456, Accuracy: 0.682119205298\n",
            "Epoch: 2000, Loss: 95.0925832344, Accuracy: 0.675496688742\n",
            "Epoch: 2200, Loss: 91.4760019589, Accuracy: 0.675496688742\n",
            "Epoch: 2400, Loss: 82.0987187566, Accuracy: 0.748344370861\n",
            "Epoch: 2600, Loss: 77.9770704621, Accuracy: 0.728476821192\n",
            "Epoch: 2800, Loss: 74.9868725361, Accuracy: 0.781456953642\n",
            "Epoch: 3000, Loss: 73.365129401, Accuracy: 0.76821192053\n",
            "Epoch: 3200, Loss: 71.0256863717, Accuracy: 0.754966887417\n",
            "Epoch: 3400, Loss: 70.3330439162, Accuracy: 0.761589403974\n",
            "Epoch: 3600, Loss: 68.3851128156, Accuracy: 0.788079470199\n",
            "Epoch: 3800, Loss: 65.9666066062, Accuracy: 0.788079470199\n",
            "Epoch: 4000, Loss: 64.0945777347, Accuracy: 0.794701986755\n",
            "Epoch: 4200, Loss: 64.7873942714, Accuracy: 0.794701986755\n",
            "Epoch: 4400, Loss: 63.780775814, Accuracy: 0.814569536424\n",
            "Epoch: 4600, Loss: 61.3005314255, Accuracy: 0.82119205298\n",
            "Epoch: 4800, Loss: 62.0167400256, Accuracy: 0.801324503311\n",
            "Epoch: 5000, Loss: 60.2342989909, Accuracy: 0.847682119205\n",
            "Epoch: 5200, Loss: 58.2107388467, Accuracy: 0.834437086093\n",
            "Epoch: 5400, Loss: 60.7782946516, Accuracy: 0.82119205298\n",
            "Epoch: 5600, Loss: 58.9245722287, Accuracy: 0.814569536424\n",
            "Epoch: 5800, Loss: 58.8228668783, Accuracy: 0.814569536424\n",
            "Epoch: 6000, Loss: 56.0352154908, Accuracy: 0.847682119205\n",
            "Epoch: 6200, Loss: 55.0855548675, Accuracy: 0.847682119205\n",
            "Epoch: 6400, Loss: 55.2348987559, Accuracy: 0.834437086093\n",
            "Epoch: 6600, Loss: 54.6683612828, Accuracy: 0.834437086093\n",
            "Epoch: 6800, Loss: 54.6431028281, Accuracy: 0.834437086093\n",
            "Epoch: 7000, Loss: 54.1276181475, Accuracy: 0.834437086093\n",
            "Epoch: 7200, Loss: 53.7193695718, Accuracy: 0.841059602649\n",
            "Epoch: 7400, Loss: 53.3331852805, Accuracy: 0.834437086093\n",
            "Epoch: 7600, Loss: 52.98904409, Accuracy: 0.841059602649\n",
            "Epoch: 7800, Loss: 52.6506204953, Accuracy: 0.841059602649\n",
            "Epoch: 8000, Loss: 52.3142455878, Accuracy: 0.854304635762\n",
            "Epoch: 8200, Loss: 51.9762263139, Accuracy: 0.854304635762\n",
            "Epoch: 8400, Loss: 51.6335268761, Accuracy: 0.860927152318\n",
            "Epoch: 8600, Loss: 51.2959995169, Accuracy: 0.860927152318\n",
            "Epoch: 8800, Loss: 51.319612719, Accuracy: 0.860927152318\n",
            "Epoch: 9000, Loss: 50.9143925172, Accuracy: 0.860927152318\n",
            "Epoch: 9200, Loss: 50.6857648048, Accuracy: 0.860927152318\n",
            "Epoch: 9400, Loss: 50.5350529004, Accuracy: 0.860927152318\n",
            "Epoch: 9600, Loss: 50.3857588196, Accuracy: 0.860927152318\n",
            "Epoch: 9800, Loss: 50.2381641245, Accuracy: 0.860927152318\n"
          ],
          "output_type": "stream"
        }
      ],
      "source": [
        "for epoch in range(epochs):\n",
        "    \n",
        "    ########## Forward Propagation\n",
        "    \n",
        "    # Layer 1\n",
        "    z1 \u003d np.dot(x, W1) + b1\n",
        "    a1 \u003d sigmoid(z1)\n",
        "\n",
        "    # Layer 2\n",
        "    z2 \u003d np.dot(a1, W2) + b2\n",
        "    a2 \u003d sigmoid(z2)\n",
        "    \n",
        "    # Layer 3\n",
        "    z3 \u003d np.dot(a2, W3) + b3\n",
        "    a3 \u003d sigmoid(z3)\n",
        "    \n",
        "    ########## Back Propagation\n",
        "    \n",
        "    ########## Layer 3\n",
        "    delta3 \u003d a3-y\n",
        "    dW3 \u003d np.dot(a2.T, delta3)\n",
        "    \n",
        "    db3 \u003d delta3\n",
        "    \n",
        "    ########## Layer 2\n",
        "    delta2 \u003d np.dot(delta3, W3.T) * sigmoid_der(z2)\n",
        "    dW2 \u003d np.dot(a1.T, delta2)\n",
        "    \n",
        "    db2 \u003d delta2\n",
        "    \n",
        "    ########## Layer 1\n",
        "    delta1 \u003d np.dot(delta2, W2.T) * sigmoid_der(z1)\n",
        "    dW1 \u003d np.dot(x.T, delta1)\n",
        "    \n",
        "    db1 \u003d delta1\n",
        "    \n",
        "    ########## Adaptive learning rate\n",
        "    lr \u003d lr * 1/(1 + lr/epochs * epoch)\n",
        "    \n",
        "    # Update Weights \u003d\u003d\u003d\u003d\u003d\u003d\u003d\u003d\u003d\u003d\u003d\u003d\u003d\u003d\u003d\u003d\n",
        "    W1 -\u003d lr * dW1\n",
        "    b1 -\u003d lr * db1.sum(axis\u003d0)\n",
        "\n",
        "    W2 -\u003d lr * dW2\n",
        "    b2 -\u003d lr * db2.sum(axis\u003d0)\n",
        "    \n",
        "    W3 -\u003d lr * dW3\n",
        "    b3 -\u003d lr * db3.sum(axis\u003d0)\n",
        "    \n",
        "    if epoch % 200 \u003d\u003d 0:\n",
        "        loss \u003d -np.sum(y * np.log(a3))\n",
        "        error_tab.append(loss)\n",
        "        lr_tab.append(lr)\n",
        "        equals \u003d np.equal(np.argmax(y, axis\u003d1), np.argmax(a3, axis\u003d1))\n",
        "        acc \u003d np.mean(equals)\n",
        "        acc_tab.append(acc)\n",
        "        print(\u0027Epoch: {}, Loss: {}, Accuracy: {}\u0027.format(epoch, loss, acc))"
      ]
    },
    {
      "cell_type": "code",
      "execution_count": 18,
      "metadata": {
        "pycharm": {
          "is_executing": false
        }
      },
      "outputs": [
        {
          "data": {
            "text/plain": "[\u003cmatplotlib.lines.Line2D at 0x10ee3390\u003e]"
          },
          "metadata": {},
          "output_type": "execute_result",
          "execution_count": 18
        },
        {
          "data": {
            "image/png": "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\u003d\n",
            "text/plain": "\u003cFigure size 432x288 with 1 Axes\u003e"
          },
          "metadata": {
            "needs_background": "light"
          },
          "output_type": "display_data"
        }
      ],
      "source": [
        "plt.plot(range(len(error_tab)), error_tab)"
      ]
    },
    {
      "cell_type": "code",
      "execution_count": 19,
      "metadata": {
        "pycharm": {
          "is_executing": false
        }
      },
      "outputs": [
        {
          "data": {
            "text/plain": "[\u003cmatplotlib.lines.Line2D at 0x10fa27b8\u003e]"
          },
          "metadata": {},
          "output_type": "execute_result",
          "execution_count": 19
        },
        {
          "data": {
            "image/png": "[encoded data removed]",
            "text/plain": "\u003cFigure size 432x288 with 1 Axes\u003e"
          },
          "metadata": {
            "needs_background": "light"
          },
          "output_type": "display_data"
        }
      ],
      "source": [
        "plt.plot(range(len(acc_tab)), acc_tab)"
      ]
    },
    {
      "cell_type": "code",
      "execution_count": 20,
      "metadata": {
        "pycharm": {
          "is_executing": false
        }
      },
      "outputs": [
        {
          "data": {
            "text/plain": "[\u003cmatplotlib.lines.Line2D at 0x1119aba8\u003e]"
          },
          "metadata": {},
          "output_type": "execute_result",
          "execution_count": 20
        },
        {
          "data": {
            "image/png": "[encoded data removed]",
            "text/plain": "\u003cFigure size 432x288 with 1 Axes\u003e"
          },
          "metadata": {
            "needs_background": "light"
          },
          "output_type": "display_data"
        }
      ],
      "source": [
        "plt.plot(range(len(lr_tab)), lr_tab)"
      ]
    },
    {
      "cell_type": "code",
      "execution_count": 20,
      "metadata": {
        "pycharm": {
          "is_executing": false
        }
      },
      "outputs": [],
      "source": ""
    },
    {
      "cell_type": "code",
      "execution_count": 20,
      "outputs": [],
      "source": "",
      "metadata": {
        "pycharm": {
          "metadata": false,
          "name": "#%%\n",
          "is_executing": false
        }
      }
    },
    {
      "cell_type": "code",
      "execution_count": null,
      "outputs": [],
      "source": "\n",
      "metadata": {
        "pycharm": {
          "metadata": false,
          "name": "#%%\n"
        }
      }
    }
  ],
  "metadata": {
    "kernelspec": {
      "name": "python2",
      "language": "python",
      "display_name": "Python 2"
    },
    "language_info": {
      "codemirror_mode": {
        "name": "ipython",
        "version": 3
      },
      "file_extension": ".py",
      "mimetype": "text/x-python",
      "name": "python",
      "nbconvert_exporter": "python",
      "pygments_lexer": "ipython3",
      "version": "3.7.3"
    }
  },
  "nbformat": 4,
  "nbformat_minor": 2
}