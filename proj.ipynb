{
 "cells": [
  {
   "cell_type": "code",
   "execution_count": 1,
   "metadata": {},
   "outputs": [],
   "source": [
    "import numpy as np\n",
    "import pandas as pd\n",
    "import matplotlib.pyplot as plt\n",
    "%matplotlib inline"
   ]
  },
  {
   "cell_type": "code",
   "execution_count": 2,
   "metadata": {},
   "outputs": [],
   "source": [
    "np.random.seed(101)"
   ]
  },
  {
   "cell_type": "code",
   "execution_count": 3,
   "metadata": {},
   "outputs": [],
   "source": [
    "df = pd.read_csv('tae.data', header=None)"
   ]
  },
  {
   "cell_type": "code",
   "execution_count": 4,
   "metadata": {},
   "outputs": [
    {
     "data": {
      "text/html": [
       "<div>\n",
       "<style scoped>\n",
       "    .dataframe tbody tr th:only-of-type {\n",
       "        vertical-align: middle;\n",
       "    }\n",
       "\n",
       "    .dataframe tbody tr th {\n",
       "        vertical-align: top;\n",
       "    }\n",
       "\n",
       "    .dataframe thead th {\n",
       "        text-align: right;\n",
       "    }\n",
       "</style>\n",
       "<table border=\"1\" class=\"dataframe\">\n",
       "  <thead>\n",
       "    <tr style=\"text-align: right;\">\n",
       "      <th></th>\n",
       "      <th>0</th>\n",
       "      <th>1</th>\n",
       "      <th>2</th>\n",
       "      <th>3</th>\n",
       "      <th>4</th>\n",
       "      <th>5</th>\n",
       "    </tr>\n",
       "  </thead>\n",
       "  <tbody>\n",
       "    <tr>\n",
       "      <th>0</th>\n",
       "      <td>1</td>\n",
       "      <td>23</td>\n",
       "      <td>3</td>\n",
       "      <td>1</td>\n",
       "      <td>19</td>\n",
       "      <td>3</td>\n",
       "    </tr>\n",
       "    <tr>\n",
       "      <th>1</th>\n",
       "      <td>2</td>\n",
       "      <td>15</td>\n",
       "      <td>3</td>\n",
       "      <td>1</td>\n",
       "      <td>17</td>\n",
       "      <td>3</td>\n",
       "    </tr>\n",
       "    <tr>\n",
       "      <th>2</th>\n",
       "      <td>1</td>\n",
       "      <td>23</td>\n",
       "      <td>3</td>\n",
       "      <td>2</td>\n",
       "      <td>49</td>\n",
       "      <td>3</td>\n",
       "    </tr>\n",
       "    <tr>\n",
       "      <th>3</th>\n",
       "      <td>1</td>\n",
       "      <td>5</td>\n",
       "      <td>2</td>\n",
       "      <td>2</td>\n",
       "      <td>33</td>\n",
       "      <td>3</td>\n",
       "    </tr>\n",
       "    <tr>\n",
       "      <th>4</th>\n",
       "      <td>2</td>\n",
       "      <td>7</td>\n",
       "      <td>11</td>\n",
       "      <td>2</td>\n",
       "      <td>55</td>\n",
       "      <td>3</td>\n",
       "    </tr>\n",
       "  </tbody>\n",
       "</table>\n",
       "</div>"
      ],
      "text/plain": [
       "   0   1   2  3   4  5\n",
       "0  1  23   3  1  19  3\n",
       "1  2  15   3  1  17  3\n",
       "2  1  23   3  2  49  3\n",
       "3  1   5   2  2  33  3\n",
       "4  2   7  11  2  55  3"
      ]
     },
     "execution_count": 4,
     "metadata": {},
     "output_type": "execute_result"
    }
   ],
   "source": [
    "df.head()"
   ]
  },
  {
   "cell_type": "code",
   "execution_count": 5,
   "metadata": {},
   "outputs": [],
   "source": [
    "columns = ['English speaker', 'Course instructor', 'Course', 'Summer or regular semester', 'Class size', 'Class attribute']"
   ]
  },
  {
   "cell_type": "code",
   "execution_count": 6,
   "metadata": {},
   "outputs": [],
   "source": [
    "df.columns = columns"
   ]
  },
  {
   "cell_type": "code",
   "execution_count": 7,
   "metadata": {},
   "outputs": [
    {
     "data": {
      "text/html": [
       "<div>\n",
       "<style scoped>\n",
       "    .dataframe tbody tr th:only-of-type {\n",
       "        vertical-align: middle;\n",
       "    }\n",
       "\n",
       "    .dataframe tbody tr th {\n",
       "        vertical-align: top;\n",
       "    }\n",
       "\n",
       "    .dataframe thead th {\n",
       "        text-align: right;\n",
       "    }\n",
       "</style>\n",
       "<table border=\"1\" class=\"dataframe\">\n",
       "  <thead>\n",
       "    <tr style=\"text-align: right;\">\n",
       "      <th></th>\n",
       "      <th>English speaker</th>\n",
       "      <th>Course instructor</th>\n",
       "      <th>Course</th>\n",
       "      <th>Summer or regular semester</th>\n",
       "      <th>Class size</th>\n",
       "      <th>Class attribute</th>\n",
       "    </tr>\n",
       "  </thead>\n",
       "  <tbody>\n",
       "    <tr>\n",
       "      <th>0</th>\n",
       "      <td>1</td>\n",
       "      <td>23</td>\n",
       "      <td>3</td>\n",
       "      <td>1</td>\n",
       "      <td>19</td>\n",
       "      <td>3</td>\n",
       "    </tr>\n",
       "    <tr>\n",
       "      <th>1</th>\n",
       "      <td>2</td>\n",
       "      <td>15</td>\n",
       "      <td>3</td>\n",
       "      <td>1</td>\n",
       "      <td>17</td>\n",
       "      <td>3</td>\n",
       "    </tr>\n",
       "    <tr>\n",
       "      <th>2</th>\n",
       "      <td>1</td>\n",
       "      <td>23</td>\n",
       "      <td>3</td>\n",
       "      <td>2</td>\n",
       "      <td>49</td>\n",
       "      <td>3</td>\n",
       "    </tr>\n",
       "    <tr>\n",
       "      <th>3</th>\n",
       "      <td>1</td>\n",
       "      <td>5</td>\n",
       "      <td>2</td>\n",
       "      <td>2</td>\n",
       "      <td>33</td>\n",
       "      <td>3</td>\n",
       "    </tr>\n",
       "    <tr>\n",
       "      <th>4</th>\n",
       "      <td>2</td>\n",
       "      <td>7</td>\n",
       "      <td>11</td>\n",
       "      <td>2</td>\n",
       "      <td>55</td>\n",
       "      <td>3</td>\n",
       "    </tr>\n",
       "  </tbody>\n",
       "</table>\n",
       "</div>"
      ],
      "text/plain": [
       "   English speaker  Course instructor  Course  Summer or regular semester  \\\n",
       "0                1                 23       3                           1   \n",
       "1                2                 15       3                           1   \n",
       "2                1                 23       3                           2   \n",
       "3                1                  5       2                           2   \n",
       "4                2                  7      11                           2   \n",
       "\n",
       "   Class size  Class attribute  \n",
       "0          19                3  \n",
       "1          17                3  \n",
       "2          49                3  \n",
       "3          33                3  \n",
       "4          55                3  "
      ]
     },
     "execution_count": 7,
     "metadata": {},
     "output_type": "execute_result"
    }
   ],
   "source": [
    "df.head()"
   ]
  },
  {
   "cell_type": "code",
   "execution_count": 8,
   "metadata": {},
   "outputs": [
    {
     "name": "stdout",
     "output_type": "stream",
     "text": [
      "<class 'pandas.core.frame.DataFrame'>\n",
      "RangeIndex: 151 entries, 0 to 150\n",
      "Data columns (total 6 columns):\n",
      "English speaker               151 non-null int64\n",
      "Course instructor             151 non-null int64\n",
      "Course                        151 non-null int64\n",
      "Summer or regular semester    151 non-null int64\n",
      "Class size                    151 non-null int64\n",
      "Class attribute               151 non-null int64\n",
      "dtypes: int64(6)\n",
      "memory usage: 7.1 KB\n"
     ]
    }
   ],
   "source": [
    "df.info()"
   ]
  },
  {
   "cell_type": "code",
   "execution_count": 9,
   "metadata": {},
   "outputs": [],
   "source": [
    "x = df.drop('Class attribute', axis=1).values\n",
    "labels = df['Class attribute']\n",
    "y = pd.get_dummies(df['Class attribute']).values"
   ]
  },
  {
   "cell_type": "code",
   "execution_count": 10,
   "metadata": {},
   "outputs": [
    {
     "data": {
      "text/plain": [
       "(151, 5)"
      ]
     },
     "execution_count": 10,
     "metadata": {},
     "output_type": "execute_result"
    }
   ],
   "source": [
    "x.shape"
   ]
  },
  {
   "cell_type": "code",
   "execution_count": 11,
   "metadata": {},
   "outputs": [],
   "source": [
    "num_inputs = 5\n",
    "neurons1 = 50\n",
    "neurons2 = 20\n",
    "num_outputs = 3"
   ]
  },
  {
   "cell_type": "code",
   "execution_count": 12,
   "metadata": {},
   "outputs": [],
   "source": [
    "W1 = np.random.randn(num_inputs,neurons1)\n",
    "b1 = np.zeros(neurons1)\n",
    "\n",
    "W2 = np.random.randn(neurons1,neurons2)\n",
    "b2 = np.zeros(neurons2)\n",
    "\n",
    "W3 = np.random.randn(neurons2,num_outputs)\n",
    "b3 = np.zeros(num_outputs)"
   ]
  },
  {
   "cell_type": "code",
   "execution_count": 13,
   "metadata": {},
   "outputs": [],
   "source": [
    "# def sigmoid(x):\n",
    "#     return 1 / (1 + np.exp(-x))\n",
    "\n",
    "# def sigmoid_der(x):\n",
    "#     return x * (1 - x)"
   ]
  },
  {
   "cell_type": "code",
   "execution_count": 14,
   "metadata": {},
   "outputs": [],
   "source": [
    "def sigmoid(x):  \n",
    "    return 1 / (1 + np.exp(-x))\n",
    "\n",
    "def sigmoid_der(x):  \n",
    "    return sigmoid(x) *(1-sigmoid(x))\n",
    "\n",
    "# def softmax(A):  \n",
    "#     expA = np.exp(A)\n",
    "#     return expA / expA.sum(axis=1, keepdims=True)"
   ]
  },
  {
   "cell_type": "code",
   "execution_count": 15,
   "metadata": {},
   "outputs": [],
   "source": [
    "lr = 0.01\n",
    "error_tab = []\n",
    "lr_tab = []\n",
    "acc_tab = []\n",
    "epochs = 10000"
   ]
  },
  {
   "cell_type": "code",
   "execution_count": 16,
   "metadata": {
    "scrolled": true
   },
   "outputs": [
    {
     "name": "stdout",
     "output_type": "stream",
     "text": [
      "Epoch: 0, Loss: 71.50451264152282, Accuracy: 0.3443708609271523\n",
      "Epoch: 200, Loss: 184.4916239650984, Accuracy: 0.3576158940397351\n",
      "Epoch: 400, Loss: 137.13774805252973, Accuracy: 0.5165562913907285\n",
      "Epoch: 600, Loss: 132.02312365401923, Accuracy: 0.5099337748344371\n",
      "Epoch: 800, Loss: 134.77737946924657, Accuracy: 0.5231788079470199\n",
      "Epoch: 1000, Loss: 131.30396075918532, Accuracy: 0.5894039735099338\n",
      "Epoch: 1200, Loss: 122.6884346170565, Accuracy: 0.6026490066225165\n",
      "Epoch: 1400, Loss: 114.80139286788847, Accuracy: 0.6357615894039735\n",
      "Epoch: 1600, Loss: 118.08119363896502, Accuracy: 0.6490066225165563\n",
      "Epoch: 1800, Loss: 110.91670767949823, Accuracy: 0.6490066225165563\n",
      "Epoch: 2000, Loss: 103.06389477545352, Accuracy: 0.6688741721854304\n",
      "Epoch: 2200, Loss: 99.90507135965196, Accuracy: 0.7019867549668874\n",
      "Epoch: 2400, Loss: 94.2027540409064, Accuracy: 0.7284768211920529\n",
      "Epoch: 2600, Loss: 97.02536795895566, Accuracy: 0.7152317880794702\n",
      "Epoch: 2800, Loss: 88.61775588042437, Accuracy: 0.7218543046357616\n",
      "Epoch: 3000, Loss: 88.16832286708996, Accuracy: 0.7549668874172185\n",
      "Epoch: 3200, Loss: 86.19360738159315, Accuracy: 0.7284768211920529\n",
      "Epoch: 3400, Loss: 84.48002949478892, Accuracy: 0.7549668874172185\n",
      "Epoch: 3600, Loss: 88.13171012342266, Accuracy: 0.7218543046357616\n",
      "Epoch: 3800, Loss: 81.714451431957, Accuracy: 0.7682119205298014\n",
      "Epoch: 4000, Loss: 81.20218504711784, Accuracy: 0.7682119205298014\n",
      "Epoch: 4200, Loss: 80.6643200930053, Accuracy: 0.7748344370860927\n",
      "Epoch: 4400, Loss: 79.0622039407911, Accuracy: 0.7748344370860927\n",
      "Epoch: 4600, Loss: 78.42375415025975, Accuracy: 0.7748344370860927\n",
      "Epoch: 4800, Loss: 77.91632005329231, Accuracy: 0.7814569536423841\n",
      "Epoch: 5000, Loss: 77.46619021309843, Accuracy: 0.7814569536423841\n",
      "Epoch: 5200, Loss: 77.07126528151312, Accuracy: 0.7814569536423841\n",
      "Epoch: 5400, Loss: 76.80750676446031, Accuracy: 0.7814569536423841\n",
      "Epoch: 5600, Loss: 76.57877647912991, Accuracy: 0.7814569536423841\n",
      "Epoch: 5800, Loss: 76.37412040808533, Accuracy: 0.7814569536423841\n",
      "Epoch: 6000, Loss: 76.18929090956864, Accuracy: 0.7814569536423841\n",
      "Epoch: 6200, Loss: 76.02091636053999, Accuracy: 0.7814569536423841\n",
      "Epoch: 6400, Loss: 75.86626304771747, Accuracy: 0.7814569536423841\n",
      "Epoch: 6600, Loss: 75.72770720284126, Accuracy: 0.7814569536423841\n",
      "Epoch: 6800, Loss: 73.161386858107, Accuracy: 0.7748344370860927\n",
      "Epoch: 7000, Loss: 72.04760262637275, Accuracy: 0.7748344370860927\n",
      "Epoch: 7200, Loss: 71.38856170722372, Accuracy: 0.7880794701986755\n",
      "Epoch: 7400, Loss: 70.94224628331175, Accuracy: 0.7748344370860927\n",
      "Epoch: 7600, Loss: 70.57669279695409, Accuracy: 0.7748344370860927\n",
      "Epoch: 7800, Loss: 70.26290611360264, Accuracy: 0.7748344370860927\n",
      "Epoch: 8000, Loss: 69.98805976897552, Accuracy: 0.7880794701986755\n",
      "Epoch: 8200, Loss: 69.74426231249618, Accuracy: 0.7880794701986755\n",
      "Epoch: 8400, Loss: 69.52588746314342, Accuracy: 0.7880794701986755\n",
      "Epoch: 8600, Loss: 69.32866943130898, Accuracy: 0.8013245033112583\n",
      "Epoch: 8800, Loss: 69.1492744225028, Accuracy: 0.8145695364238411\n",
      "Epoch: 9000, Loss: 68.98504643628551, Accuracy: 0.8145695364238411\n",
      "Epoch: 9200, Loss: 68.8338381999098, Accuracy: 0.8145695364238411\n",
      "Epoch: 9400, Loss: 68.6938920573695, Accuracy: 0.8145695364238411\n",
      "Epoch: 9600, Loss: 68.56375303093742, Accuracy: 0.8145695364238411\n",
      "Epoch: 9800, Loss: 68.44220359076283, Accuracy: 0.8145695364238411\n"
     ]
    }
   ],
   "source": [
    "for epoch in range(epochs):\n",
    "    \n",
    "    ########## Forward Propagation\n",
    "    \n",
    "    # Layer 1\n",
    "    z1 = np.dot(x, W1) + b1\n",
    "    a1 = sigmoid(z1)\n",
    "\n",
    "    # Layer 2\n",
    "    z2 = np.dot(a1, W2) + b2\n",
    "    a2 = sigmoid(z2)\n",
    "    \n",
    "    # Layer 3\n",
    "    z3 = np.dot(a2, W3) + b3\n",
    "    a3 = sigmoid(z3)\n",
    "    \n",
    "    ########## Back Propagation\n",
    "    \n",
    "    ########## Layer 3\n",
    "    delta3 = a3-y\n",
    "    dW3 = np.dot(a2.T, delta3)\n",
    "    \n",
    "    db3 = delta3\n",
    "    \n",
    "    ########## Layer 2\n",
    "    delta2 = np.dot(delta3, W3.T) * sigmoid_der(z2)\n",
    "    dW2 = np.dot(a1.T, delta2)\n",
    "    \n",
    "    db2 = delta2\n",
    "    \n",
    "    ########## Layer 1\n",
    "    delta1 = np.dot(delta2, W2.T) * sigmoid_der(z1)\n",
    "    dW1 = np.dot(x.T, delta1)\n",
    "    \n",
    "    db1 = delta1\n",
    "    \n",
    "    ########## Adaptive learning rate\n",
    "    lr = lr * 1/(1 + lr/epochs * epoch)\n",
    "    \n",
    "    # Update Weights ================\n",
    "    W1 -= lr * dW1\n",
    "    b1 -= lr * db1.sum(axis=0)\n",
    "\n",
    "    W2 -= lr * dW2\n",
    "    b2 -= lr * db2.sum(axis=0)\n",
    "    \n",
    "    W3 -= lr * dW3\n",
    "    b3 -= lr * db3.sum(axis=0)\n",
    "    \n",
    "    if epoch % 200 == 0:\n",
    "        loss = -np.sum(y * np.log(a3))\n",
    "        error_tab.append(loss)\n",
    "        lr_tab.append(lr)\n",
    "        equals = np.equal(np.argmax(y, axis=1), np.argmax(a3, axis=1))\n",
    "        acc = np.mean(equals)\n",
    "        acc_tab.append(acc)\n",
    "        print('Epoch: {}, Loss: {}, Accuracy: {}'.format(epoch, loss, acc))"
   ]
  },
  {
   "cell_type": "code",
   "execution_count": 17,
   "metadata": {},
   "outputs": [
    {
     "data": {
      "text/plain": [
       "[<matplotlib.lines.Line2D at 0x109e8330>]"
      ]
     },
     "execution_count": 17,
     "metadata": {},
     "output_type": "execute_result"
    },
    {
     "data": {
      "image/png": "[encoded data removed]",
      "text/plain": [
       "<Figure size 432x288 with 1 Axes>"
      ]
     },
     "metadata": {
      "needs_background": "light"
     },
     "output_type": "display_data"
    }
   ],
   "source": [
    "plt.plot(range(len(error_tab)), error_tab)"
   ]
  },
  {
   "cell_type": "code",
   "execution_count": 18,
   "metadata": {},
   "outputs": [
    {
     "data": {
      "text/plain": [
       "[<matplotlib.lines.Line2D at 0x11a20490>]"
      ]
     },
     "execution_count": 18,
     "metadata": {},
     "output_type": "execute_result"
    },
    {
     "data": {
      "image/png": "[encoded data removed]",
      "text/plain": [
       "<Figure size 432x288 with 1 Axes>"
      ]
     },
     "metadata": {
      "needs_background": "light"
     },
     "output_type": "display_data"
    }
   ],
   "source": [
    "plt.plot(range(len(acc_tab)), acc_tab)"
   ]
  },
  {
   "cell_type": "code",
   "execution_count": 19,
   "metadata": {},
   "outputs": [
    {
     "data": {
      "text/plain": [
       "[<matplotlib.lines.Line2D at 0x11a56ff0>]"
      ]
     },
     "execution_count": 19,
     "metadata": {},
     "output_type": "execute_result"
    },
    {
     "data": {
      "image/png": "[encoded data removed]",
      "text/plain": [
       "<Figure size 432x288 with 1 Axes>"
      ]
     },
     "metadata": {
      "needs_background": "light"
     },
     "output_type": "display_data"
    }
   ],
   "source": [
    "plt.plot(range(len(lr_tab)), lr_tab)"
   ]
  },
  {
   "cell_type": "code",
   "execution_count": null,
   "metadata": {},
   "outputs": [],
   "source": []
  }
 ],
 "metadata": {
  "kernelspec": {
   "display_name": "Python 3",
   "language": "python",
   "name": "python3"
  },
  "language_info": {
   "codemirror_mode": {
    "name": "ipython",
    "version": 3
   },
   "file_extension": ".py",
   "mimetype": "text/x-python",
   "name": "python",
   "nbconvert_exporter": "python",
   "pygments_lexer": "ipython3",
   "version": "3.7.3"
  }
 },
 "nbformat": 4,
 "nbformat_minor": 2
}
